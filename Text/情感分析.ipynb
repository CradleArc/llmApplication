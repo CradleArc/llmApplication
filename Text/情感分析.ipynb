{
 "cells": [
  {
   "cell_type": "markdown",
   "source": [
    "### 方案一"
   ],
   "metadata": {
    "collapsed": false
   }
  },
  {
   "cell_type": "code",
   "execution_count": null,
   "metadata": {
    "collapsed": true
   },
   "outputs": [],
   "source": [
    "import paddlehub as hub\n",
    "\n",
    "senta = hub.Module(name=\"senta_lstm\")"
   ]
  },
  {
   "cell_type": "code",
   "execution_count": null,
   "outputs": [],
   "source": [
    "test_text = [\"这家餐厅很好吃\", \"这部电影真的很差劲\"]"
   ],
   "metadata": {
    "collapsed": false
   }
  },
  {
   "cell_type": "code",
   "execution_count": null,
   "outputs": [],
   "source": [
    "results = senta.sentiment_classify(texts=test_text)"
   ],
   "metadata": {
    "collapsed": false
   }
  },
  {
   "cell_type": "code",
   "execution_count": null,
   "outputs": [],
   "source": [
    "print(results)"
   ],
   "metadata": {
    "collapsed": false
   }
  },
  {
   "cell_type": "markdown",
   "source": [
    "### 方案二"
   ],
   "metadata": {
    "collapsed": false
   }
  },
  {
   "cell_type": "code",
   "execution_count": null,
   "outputs": [],
   "source": [
    "!pip install paddlepaddle-gpu -U\n",
    "!pip install paddlehub==2.1.0\n",
    "!hub install ernie_skep_sentiment_analysis==1.0.0"
   ],
   "metadata": {
    "collapsed": false
   }
  },
  {
   "cell_type": "code",
   "execution_count": null,
   "outputs": [],
   "source": [
    "from tqdm import tqdm\n",
    "import numpy as np\n",
    "Labels = []\n",
    "Texts = []\n",
    "with open('data.txt', 'r', encoding='utf-8') as f:\n",
    "    lines = f.readlines()\n",
    "    for i in tqdm(range(len(lines))):\n",
    "        if i%2 == 0:\n",
    "            str1 = lines[i].rstrip()\n",
    "        else:\n",
    "            str2 = lines[i].rstrip()\n",
    "            if len(str2) != 0:\n",
    "                label = [int(j) for j in str2.split()]\n",
    "                Labels.append(label)\n",
    "                Texts.append(str1)\n",
    "print(len(Texts))"
   ],
   "metadata": {
    "collapsed": false
   }
  },
  {
   "cell_type": "code",
   "execution_count": null,
   "outputs": [],
   "source": [
    "import paddlehub as hub\n",
    "import os\n",
    "os.environ['CUDA_VISIBLE_DEVICES'] = '0'\n",
    "\n",
    "# Load ernie_skep_sentiment_analysis module.\n",
    "module = hub.Module(name=\"ernie_skep_sentiment_analysis\")\n",
    "\n",
    "# Predict sentiment label\n",
    "# test_texts = ['你不是不聪明，而是不认真', '虽然小明很努力，但是他还是没有考100分']\n",
    "results = module.predict_sentiment(Texts, use_gpu=True)"
   ],
   "metadata": {
    "collapsed": false
   }
  },
  {
   "cell_type": "code",
   "execution_count": null,
   "outputs": [],
   "source": [
    "print(results[:10])"
   ],
   "metadata": {
    "collapsed": false
   }
  },
  {
   "cell_type": "code",
   "execution_count": null,
   "outputs": [],
   "source": [
    "r_stat = np.zeros([3,125])\n",
    "for i,r in tqdm(enumerate(results)):\n",
    "    labels = Labels[i]\n",
    "    for j in labels:\n",
    "        r_stat[0,j] += 1\n",
    "        r_stat[2,j] += r['positive_probs']\n",
    "        if r['sentiment_label'] == 'positive':\n",
    "            r_stat[1,j] += 1\n",
    "\n",
    "r_stat[2,:] = r_stat[2,:]/r_stat[0,:]\n",
    "r_stat[1,:] = r_stat[1,:]/r_stat[0,:]\n",
    "\n",
    "#保存对表情情感分析的结果\n",
    "np.save(\"emoji_sentiment.npy\",r_stat)"
   ],
   "metadata": {
    "collapsed": false
   }
  },
  {
   "cell_type": "code",
   "execution_count": null,
   "outputs": [],
   "source": [
    "ids = [0,7,8,9,10,13,16,18,19,21,22,23,24,28,33,38,42]\n",
    "for i in ids:\n",
    "    print(i,r_stat[1,i])"
   ],
   "metadata": {
    "collapsed": false
   }
  }
 ],
 "metadata": {
  "kernelspec": {
   "display_name": "Python 3",
   "language": "python",
   "name": "python3"
  },
  "language_info": {
   "codemirror_mode": {
    "name": "ipython",
    "version": 2
   },
   "file_extension": ".py",
   "mimetype": "text/x-python",
   "name": "python",
   "nbconvert_exporter": "python",
   "pygments_lexer": "ipython2",
   "version": "2.7.6"
  }
 },
 "nbformat": 4,
 "nbformat_minor": 0
}
