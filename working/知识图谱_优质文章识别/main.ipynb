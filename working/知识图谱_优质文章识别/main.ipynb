{
 "cells": [
  {
   "cell_type": "markdown",
   "metadata": {},
   "source": [
    "# CCKS2022基于知识图谱的优质文章识别 \n",
    "\n",
    "本任务要求参赛者利用文章的知识图谱进行建模，实现优质文章分类。\n",
    "\n",
    "赛题地址：[点击直达](https://aistudio.baidu.com/aistudio/competition/detail/255/0/introduction)\n",
    "\n",
    "\n",
    "**赛题背景**\n",
    "\n",
    "在移动互联网、大数据的时代背景下，各类自媒体文章呈爆发式增长，在搜索和推荐等信息分发场景下，甄别出优质文章并分发给用户具有重要的研究意义和实际应用价值。除了文章本身的写作质量以外，优质文章应该具备内容的深度和新颖性等，因此单纯依赖文章本身内容无法完整识别优质文章。本任务将引入文章相关的外部知识图谱，结合文章内在的知识逻辑，在对文章更深入的语义理解基础上实现优质文章识别。\n",
    "\n",
    "**赛题说明**\n",
    "\n",
    "本任务要求参赛者利用文章的知识图谱进行建模，实现优质文章分类。\n",
    "输入数据示例如下：\n",
    "```python\n",
    "{\n",
    "    \"url\": \"http://baijiahao.baidu.com/s?id=1657091325677517018\",\n",
    "    \"title\": \"新年首秀！美联储维持利率不变，中国央行或仍“淡定”\",\n",
    "    \"pub_time\": \"2020-01-30\",\n",
    "    \"content\": \"中新经纬客户端1月30日电 (张澍楠)在结束为期两天的货币政策例会后，美联储今日(30日)凌晨宣布，维持联邦基金利率在1.50%-1.75%不变，符合市场预期。<br/>“按兵不动”成共识...\",\n",
    "    \"entities\":{\n",
    "        \"联邦基金利率\": {\n",
    "            \"co-occurrence\": [\"美国\"], \n",
    "            \"entity_id\": \"7949986\", \n",
    "            \"entity_baike_url\": \"https://baike.baidu.com/item/%E8%81%94%E9%82%A6%E5%9F%BA%E9%87%91%E5%88%A9%E7%8E%87/7949986\", \n",
    "            \"entity_baike_info\": [\n",
    "                {\"name\": \"中文名\", \"value\": [\"联邦基金利率\"]}, \n",
    "                {\"name\": \"外文名\", \"value\": [\"Federal Funds Rate\"]}, \n",
    "                {\"name\": \"最主要的\", \"value\": [\"隔夜拆借利率\"]}, \n",
    "                {\"name\": \"投资\", \"value\": [\"国民经济\"]}, \n",
    "                {\"name\": \"释义\", \"value\": [\"美国同业拆借市场的利率，其最主要的是隔夜拆借利率\"]}, \n",
    "                {\"name\": \"反映\", \"value\": [\"反映银行之间资金的余缺\"]}\n",
    "            ]\n",
    "        }\n",
    "        \"国际货币基金组织\": ...\n",
    "        \"美国\": ...\n",
    "        ...\n",
    "    }\n",
    "}\n",
    "```\n",
    "\n",
    "各字段说明：\n",
    "\n",
    "|字段|说明|\n",
    "|---|---|\n",
    "|url|文章链接|\n",
    "|title|文章标题|\n",
    "|pub_time|文章发布时间|\n",
    "|content|文章内容，段落之间用<br/>分割|\n",
    "|entities|文章中的实体集合|\n",
    "|co-occurrence|文章中与当前实体在百科页面共现的实体集合|\n",
    "|entity_id|实体id|\n",
    "|entity_baike_url|实体百度百科链接|\n",
    "|entity_baike_info|实体百度百科信息|\n",
    "\n",
    "<br>\n",
    "\n",
    "输出示例如下：\n",
    "\n",
    "```python\n",
    "{\n",
    "    \"url\": \"http://baijiahao.baidu.com/s?id=1657091325677517018\",\n",
    "    \"label\": 0\n",
    "}\n",
    "```\n",
    "各字段说明：\n",
    "\n",
    "|字段|说明|\n",
    "|---|---|\n",
    "|url|文章链接|\n",
    "|label|文章标签，0表示非优质文章，1表示优质文章|\n",
    "\n",
    "\n",
    "**评价指标**\n",
    "\n",
    "F1-Score"
   ]
  },
  {
   "cell_type": "markdown",
   "metadata": {},
   "source": [
    "# Baseline思路\n",
    "\n",
    "本赛题是经典的文本二分类任务，难点在于如何融入知识图谱的三元组信息辅助文章质量的判断，根据赛题特点，有两方面考虑。\n",
    "- 在预训练模型选择上，选择百度的**ERNIE-1.0**，ERNIE-1.0改进了两种masking 策略，一种是基于phrase的masking策略，另外一种是基于entity的masking策略。在ERNIE 当中，将由多个字组成的phrase或者entity当成一个统一单元，相比于bert基于字的mask, 这个单元当中的的所有字在训练的时候，统一被mask. 对比直接将知识类的query 映射成向量然后直接加起来，ERNIE 通过统一mask的方式可以潜在的学习到知识的依赖以及更长的语义依赖来让模型更具泛化性。\n",
    "\n",
    "- 在输入数据构造上，受预训练模型输入长度的限制，测试了四种不同组合的输入方式：\n",
    "    - 方案一：仅使用标题（最大截断长度 50）\n",
    "    - 方案二：标题 + 正文截断（最大截断长度 256/512）\n",
    "    - 方案二：使用标题拼接文章的实体信息，以SEP分隔（最大截断长度 250）\n",
    "    - 方案三：使用标题拼接文章的正文段落（通过相似度召回topk个限制长度的段落），以SEP分隔（最大截断长度 512）\n",
    "\n",
    "## Baseline效果\n",
    "\n",
    "|model|输入方式|验证分数|线上分数|\n",
    "|---|---|---|---|\n",
    "|ernie-1.0-base-zh|仅标题-50|0.806122|0.762|\n",
    "|ernie-1.0-base-zh|标题 + 正文截断-256|0.817602|0.815|\n",
    "|ernie-1.0-base-zh|标题 + 正文截断-512|0.821429|0.800|\n",
    "|ernie-1.0-base-zh|标题 + 实体信息-250|0.917092|0.766|\n",
    "|ernie-1.0-base-zh|标题 + 正文段落-512|0.813776|0.804|\n",
    "|ernie-3.0-base-zh|标题 + 正文截断-256|0.79719|0.823|\n",
    "\n",
    "baseline实验结果：\n",
    "- 仅使用标题的baseline是效果最差的\n",
    "- 三种拼接方法（直接截断正文、拼接实体信息、拼接topk相似段落）都有一定程度的增益效果，其中直接截断正文（最大截断长度 256）效果最好，说明正文中蕴含大量能够提升模型性能的可用信息。\n",
    "- 拼接实体信息会导致模型过拟合，虽然验证分数很高，但线上的分数有明显差距，出现严重过拟合现象，可能的猜测是直接拼接大量实体信息会破坏句子结构和完整性。\n",
    "- 采用实体信息检索topk个正文相关段落也是较为有效的方法，baseline采用的检索方式较为简单，后续可以优化检索的方式和提高检索段落和三元组信息之间的相关性。\n",
    "- 使用留一法划分训练集和验证集时，线下验证分数和线上分数具有明显差异，建议后续可以使kfold多折交叉验证方式进行优化\n",
    "\n",
    "此外，除了在ernie-1.0上开展baseline实验，新上线的融合大规模知识的预训练模型ERNIE3.0可能会有更好地效果，在上述效果最好的输入构造上进行实验（标题 + 正文截断-256）得到了0.823线上分数超过了ernie-1.0。\n",
    "\n",
    "故最终使用ernie-3.0-base-zh和标题 + 正文截断-256 作为baseline方案，得到线下0.823\n",
    "\n",
    "## 后续优化推荐\n",
    "\n",
    "- 考虑直接对长文本内容进行建模，可以选择ernie-doc模型\n",
    "- 正文段落包含大量可学习信息，使用段落匹配+拼接的方式，显式引入额外信息\n",
    "- 使用TransE等Knowledge Graph Embedding方法，隐式引入三元组信息\n",
    "- 使用FGM、PGD等对抗训练方法，提高模型的鲁棒性\n",
    "\n",
    "\n"
   ]
  },
  {
   "cell_type": "code",
   "execution_count": null,
   "metadata": {
    "execution": {
     "iopub.execute_input": "2024-06-09T07:42:30.638011Z",
     "iopub.status.busy": "2024-06-09T07:42:30.637336Z",
     "iopub.status.idle": "2024-06-09T07:43:50.619522Z",
     "shell.execute_reply": "2024-06-09T07:43:50.618027Z",
     "shell.execute_reply.started": "2024-06-09T07:42:30.637969Z"
    },
    "scrolled": true,
    "tags": []
   },
   "outputs": [],
   "source": [
    "# 更新paddlenlp\n",
    "!pip install -U paddlenlp"
   ]
  },
  {
   "cell_type": "code",
   "execution_count": 2,
   "metadata": {
    "execution": {
     "iopub.execute_input": "2024-06-09T07:44:00.678691Z",
     "iopub.status.busy": "2024-06-09T07:44:00.678094Z",
     "iopub.status.idle": "2024-06-09T07:44:05.585920Z",
     "shell.execute_reply": "2024-06-09T07:44:05.584721Z",
     "shell.execute_reply.started": "2024-06-09T07:44:00.678652Z"
    },
    "scrolled": true,
    "tags": []
   },
   "outputs": [
    {
     "name": "stderr",
     "output_type": "stream",
     "text": [
      "'unzip' �����ڲ����ⲿ���Ҳ���ǿ����еĳ���\n",
      "���������ļ���\n",
      "'unzip' �����ڲ����ⲿ���Ҳ���ǿ����еĳ���\n",
      "���������ļ���\n"
     ]
    }
   ],
   "source": [
    "import os\n",
    "# 解压数据集\n",
    "if not os.path.exists(\"train.json\"):\n",
    "    # print('aaa')\n",
    "    !unzip -d data/ data148680/train.json.zip\n",
    "    !unzip -d data/ data148680/val.unlabel.json.zip"
   ]
  },
  {
   "cell_type": "markdown",
   "metadata": {},
   "source": [
    "# 具体方案"
   ]
  },
  {
   "cell_type": "code",
   "execution_count": null,
   "metadata": {
    "scrolled": true,
    "tags": []
   },
   "outputs": [],
   "source": [
    "!pip install seaborn"
   ]
  },
  {
   "cell_type": "code",
   "execution_count": 9,
   "metadata": {
    "execution": {
     "iopub.execute_input": "2024-06-09T07:46:33.913682Z",
     "iopub.status.busy": "2024-06-09T07:46:33.912366Z",
     "iopub.status.idle": "2024-06-09T07:46:33.943302Z",
     "shell.execute_reply": "2024-06-09T07:46:33.941949Z",
     "shell.execute_reply.started": "2024-06-09T07:46:33.913637Z"
    },
    "scrolled": true,
    "tags": []
   },
   "outputs": [],
   "source": [
    "import os\n",
    "import json\n",
    "import random\n",
    "import numpy as np\n",
    "import pandas as pd\n",
    "from tqdm import tqdm\n",
    "import paddle\n",
    "import paddlenlp\n",
    "import time\n",
    "import paddle.nn.functional as F\n",
    "from functools import partial\n",
    "from paddlenlp.data import Stack, Dict, Pad\n",
    "from paddlenlp.datasets import load_dataset\n",
    "from sklearn.metrics import accuracy_score\n",
    "from sklearn.model_selection import train_test_split\n",
    "from sklearn.metrics import f1_score,classification_report\n",
    "import matplotlib.pyplot as plt\n",
    "import seaborn as sns\n",
    "from sklearn.model_selection import train_test_split\n",
    "\n",
    "seed = 42\n",
    "def set_seed(seed):\n",
    "    paddle.seed(seed)\n",
    "    random.seed(seed)\n",
    "    np.random.seed(seed)\n",
    "set_seed(seed)"
   ]
  },
  {
   "cell_type": "markdown",
   "metadata": {},
   "source": [
    "\n",
    "## 1 数据读取"
   ]
  },
  {
   "cell_type": "code",
   "execution_count": 11,
   "metadata": {
    "execution": {
     "iopub.execute_input": "2022-07-14T03:54:26.094509Z",
     "iopub.status.busy": "2022-07-14T03:54:26.093515Z",
     "iopub.status.idle": "2022-07-14T03:54:43.004702Z",
     "shell.execute_reply": "2022-07-14T03:54:43.003838Z",
     "shell.execute_reply.started": "2022-07-14T03:54:26.094471Z"
    },
    "scrolled": true,
    "tags": []
   },
   "outputs": [
    {
     "name": "stdout",
     "output_type": "stream",
     "text": [
      "train size: 7835\n",
      "test size: 1078\n"
     ]
    }
   ],
   "source": [
    "# 数据读取\n",
    "def read_json(file_name):\n",
    "    examples = []\n",
    "    with open(file_name,\"r\",encoding=\"utf-8\") as f:\n",
    "        for i in f.readlines():\n",
    "            examples.append(json.loads(i))\n",
    "    return examples\n",
    "\n",
    "train = read_json(\"data/train.json\")\n",
    "test = read_json(\"data/val.unlabel.json\")\n",
    "print(\"train size:\",len(train))\n",
    "print(\"test size:\",len(test))"
   ]
  },
  {
   "cell_type": "markdown",
   "metadata": {},
   "source": [
    "\n",
    "## 2 EDA简单数据分析"
   ]
  },
  {
   "cell_type": "markdown",
   "metadata": {},
   "source": [
    "已生成缓存文件\n",
    "\n",
    "若要更改参数，请到work删除states_train.csv和states_test.csv文件，重新运行下方cell程序\n",
    "\n",
    "通过暴力检索相似段落需要耗费时间（约30分钟）"
   ]
  },
  {
   "cell_type": "code",
   "execution_count": 12,
   "metadata": {
    "execution": {
     "iopub.execute_input": "2022-07-14T03:54:43.006532Z",
     "iopub.status.busy": "2022-07-14T03:54:43.006117Z",
     "iopub.status.idle": "2022-07-14T03:54:45.593933Z",
     "shell.execute_reply": "2022-07-14T03:54:45.592895Z",
     "shell.execute_reply.started": "2022-07-14T03:54:43.006502Z"
    },
    "scrolled": false,
    "tags": []
   },
   "outputs": [],
   "source": [
    "# 由于计算相似度需要时间，生成缓存文件方便读写\n",
    "if os.path.exists('work/states_train.csv') and os.path.exists('work/states_test.csv'):\n",
    "    states_train = pd.read_csv(\"work/states_train.csv\")\n",
    "    states_test = pd.read_csv(\"work/states_test.csv\")\n",
    "else:\n",
    "    # 使用Taskflow可以一键预测句子相似度\n",
    "    from paddlenlp.taskflow import Taskflow\n",
    "    similarity_model = Taskflow(\"text_similarity\")\n",
    "    # 设置召回数量，控制召回段落最大最小长度\n",
    "    topk = 3\n",
    "    min_content_length = 32\n",
    "    max_content_length = 256\n",
    "    # 统计指标\n",
    "    states_train = pd.DataFrame(train)\n",
    "    states_train['title_len'] = [len(i) for i in states_train['title']]\n",
    "    states_train['content_len'] = [len(i) for i in states_train['content']]\n",
    "    states_train['entities_num'] = [len(i) for i in states_train['entities']]\n",
    "\n",
    "    states_test = pd.DataFrame(test)\n",
    "    states_test['title_len'] = [len(i) for i in states_test['title']]\n",
    "    states_test['content_len'] = [len(i) for i in states_test['content']]\n",
    "    states_test['entities_num'] = [len(i) for i in states_test['entities']]\n",
    "\n",
    "    states_train['concat_entities'] = [rows['pub_time']+'[SEP]'+rows['title']+'[SEP]'+'关键信息：'+\",\".join(rows['entities']) for idx,rows in states_train.iterrows()]\n",
    "    states_test['concat_entities'] = [rows['pub_time']+'[SEP]'+rows['title']+'[SEP]'+'关键信息：'+\",\".join(rows['entities']) for idx,rows in states_test.iterrows()]\n",
    "    states_train['concat_len'] = [len(i) for i in states_train['concat_entities']]\n",
    "    states_test['concat_len'] = [len(i) for i in states_test['concat_entities']]\n",
    "\n",
    "    # 生成检索句子\n",
    "    def retrieve_sentence(similarity_pair,topk=topk):\n",
    "        similarity_list = pd.DataFrame(similarity_model(similarity_pair))\n",
    "        similarity_list.sort_values(by=\"similarity\",ascending=False,inplace=True)\n",
    "        return \",\".join(similarity_list['text1'][:topk])\n",
    "\n",
    "    # 训练集\n",
    "    for idx,rows in tqdm(states_train.iterrows(),total=states_train.shape[0]):\n",
    "        doc_lists = [d for d in rows['content'].split('<br/>') if len(d) > min_content_length and len(d) < max_content_length] \n",
    "        entitie_info = []\n",
    "        for k in rows['entities'].keys():\n",
    "            entitie_info.extend(rows['entities'][k]['co-occurrence']+[k])\n",
    "        entitie_info = list(set(entitie_info))\n",
    "        similarity_pair = [[s1,\" \".join(entitie_info)] for s1 in doc_lists]\n",
    "        if similarity_pair:\n",
    "            states_train.loc[idx,'concat_content'] =  rows['title'] + '[SEP]' + retrieve_sentence(similarity_pair,topk=topk)\n",
    "        else:\n",
    "            states_train.loc[idx,'concat_content'] =  rows['title']\n",
    "    # 测试集\n",
    "    for idx,rows in tqdm(states_test.iterrows(),total=states_test.shape[0]):\n",
    "        doc_lists = [d for d in rows['content'].split('<br/>') if len(d) > min_content_length and len(d) < max_content_length] \n",
    "        entitie_info = []\n",
    "        for k in rows['entities'].keys():\n",
    "            entitie_info.extend(rows['entities'][k]['co-occurrence']+[k])\n",
    "        entitie_info = list(set(entitie_info))\n",
    "        similarity_pair = [[s1,\" \".join(entitie_info)] for s1 in doc_lists]\n",
    "        if similarity_pair:\n",
    "            states_test.loc[idx,'concat_content'] =  rows['title'] + '[SEP]' + retrieve_sentence(similarity_pair,topk=topk)\n",
    "        else:\n",
    "            states_test.loc[idx,'concat_content'] =  rows['title']\n",
    "    states_train['concat_content_len'] = [len(i) for i in states_train['concat_content']]\n",
    "    states_test['concat_content_len'] = [len(i) for i in states_test['concat_content']]\n",
    "\n",
    "    states_train.to_csv(\"work/states_train.csv\",index=False)\n",
    "    states_test.to_csv(\"work/states_test.csv\",index=False)"
   ]
  },
  {
   "cell_type": "markdown",
   "metadata": {
    "execution": {
     "iopub.execute_input": "2022-06-29T06:09:57.115178Z",
     "iopub.status.busy": "2022-06-29T06:09:57.113916Z",
     "iopub.status.idle": "2022-06-29T06:09:57.119384Z",
     "shell.execute_reply": "2022-06-29T06:09:57.118529Z",
     "shell.execute_reply.started": "2022-06-29T06:09:57.115114Z"
    },
    "tags": []
   },
   "source": [
    "### 2.1 文本长度"
   ]
  },
  {
   "cell_type": "code",
   "execution_count": 13,
   "metadata": {
    "execution": {
     "iopub.execute_input": "2022-07-14T03:54:45.595527Z",
     "iopub.status.busy": "2022-07-14T03:54:45.595139Z",
     "iopub.status.idle": "2022-07-14T03:54:45.900270Z",
     "shell.execute_reply": "2022-07-14T03:54:45.899451Z",
     "shell.execute_reply.started": "2022-07-14T03:54:45.595500Z"
    },
    "scrolled": false,
    "tags": []
   },
   "outputs": [
    {
     "name": "stdout",
     "output_type": "stream",
     "text": [
      "49.0\n"
     ]
    },
    {
     "name": "stderr",
     "output_type": "stream",
     "text": [
      "C:\\Users\\kitx86\\AppData\\Local\\Temp\\ipykernel_14440\\2582958495.py:3: UserWarning: \n",
      "\n",
      "`distplot` is a deprecated function and will be removed in seaborn v0.14.0.\n",
      "\n",
      "Please adapt your code to use either `displot` (a figure-level function with\n",
      "similar flexibility) or `histplot` (an axes-level function for histograms).\n",
      "\n",
      "For a guide to updating your code to use the new functions, please see\n",
      "https://gist.github.com/mwaskom/de44147ed2974457ad6372750bbe5751\n",
      "\n",
      "  sns.distplot(states_train['title_len'],bins=10,color='r')\n",
      "C:\\Users\\kitx86\\AppData\\Local\\Temp\\ipykernel_14440\\2582958495.py:4: UserWarning: \n",
      "\n",
      "`distplot` is a deprecated function and will be removed in seaborn v0.14.0.\n",
      "\n",
      "Please adapt your code to use either `displot` (a figure-level function with\n",
      "similar flexibility) or `histplot` (an axes-level function for histograms).\n",
      "\n",
      "For a guide to updating your code to use the new functions, please see\n",
      "https://gist.github.com/mwaskom/de44147ed2974457ad6372750bbe5751\n",
      "\n",
      "  sns.distplot(states_test['title_len'],bins=10,color='b')\n"
     ]
    },
    {
     "data": {
      "image/png": "[encoded data removed]",
      "text/plain": [
       "<Figure size 640x480 with 1 Axes>"
      ]
     },
     "metadata": {},
     "output_type": "display_data"
    }
   ],
   "source": [
    "plt.title(\"title text length\")\n",
    "print(states_train['title_len'].quantile(0.99))\n",
    "sns.distplot(states_train['title_len'],bins=10,color='r')\n",
    "sns.distplot(states_test['title_len'],bins=10,color='b')\n",
    "plt.show()"
   ]
  },
  {
   "cell_type": "code",
   "execution_count": 14,
   "metadata": {
    "execution": {
     "iopub.execute_input": "2022-07-14T03:54:45.901771Z",
     "iopub.status.busy": "2022-07-14T03:54:45.901373Z",
     "iopub.status.idle": "2022-07-14T03:54:46.070162Z",
     "shell.execute_reply": "2022-07-14T03:54:46.069240Z",
     "shell.execute_reply.started": "2022-07-14T03:54:45.901742Z"
    },
    "scrolled": false,
    "tags": []
   },
   "outputs": [
    {
     "name": "stdout",
     "output_type": "stream",
     "text": [
      "1306.68\n"
     ]
    },
    {
     "name": "stderr",
     "output_type": "stream",
     "text": [
      "C:\\Users\\kitx86\\AppData\\Local\\Temp\\ipykernel_14440\\1343387967.py:3: UserWarning: \n",
      "\n",
      "`distplot` is a deprecated function and will be removed in seaborn v0.14.0.\n",
      "\n",
      "Please adapt your code to use either `displot` (a figure-level function with\n",
      "similar flexibility) or `histplot` (an axes-level function for histograms).\n",
      "\n",
      "For a guide to updating your code to use the new functions, please see\n",
      "https://gist.github.com/mwaskom/de44147ed2974457ad6372750bbe5751\n",
      "\n",
      "  sns.distplot(states_train['content_len'],bins=10,color='r')\n",
      "C:\\Users\\kitx86\\AppData\\Local\\Temp\\ipykernel_14440\\1343387967.py:4: UserWarning: \n",
      "\n",
      "`distplot` is a deprecated function and will be removed in seaborn v0.14.0.\n",
      "\n",
      "Please adapt your code to use either `displot` (a figure-level function with\n",
      "similar flexibility) or `histplot` (an axes-level function for histograms).\n",
      "\n",
      "For a guide to updating your code to use the new functions, please see\n",
      "https://gist.github.com/mwaskom/de44147ed2974457ad6372750bbe5751\n",
      "\n",
      "  sns.distplot(states_test['content_len'],bins=10,color='b')\n"
     ]
    },
    {
     "data": {
      "image/png": "[encoded data removed]",
      "text/plain": [
       "<Figure size 640x480 with 1 Axes>"
      ]
     },
     "metadata": {},
     "output_type": "display_data"
    }
   ],
   "source": [
    "plt.title(\"train content text length\")\n",
    "print(states_train['content_len'].quantile(0.01))\n",
    "sns.distplot(states_train['content_len'],bins=10,color='r')\n",
    "sns.distplot(states_test['content_len'],bins=10,color='b')\n",
    "plt.show()"
   ]
  },
  {
   "cell_type": "markdown",
   "metadata": {},
   "source": [
    "\n",
    "### 2.2 实体个数"
   ]
  },
  {
   "cell_type": "code",
   "execution_count": 15,
   "metadata": {
    "execution": {
     "iopub.execute_input": "2022-07-14T03:54:46.071622Z",
     "iopub.status.busy": "2022-07-14T03:54:46.071256Z",
     "iopub.status.idle": "2022-07-14T03:54:46.241914Z",
     "shell.execute_reply": "2022-07-14T03:54:46.240905Z",
     "shell.execute_reply.started": "2022-07-14T03:54:46.071596Z"
    },
    "scrolled": false,
    "tags": []
   },
   "outputs": [
    {
     "name": "stdout",
     "output_type": "stream",
     "text": [
      "48.0\n"
     ]
    },
    {
     "name": "stderr",
     "output_type": "stream",
     "text": [
      "C:\\Users\\kitx86\\AppData\\Local\\Temp\\ipykernel_14440\\3022338940.py:3: UserWarning: \n",
      "\n",
      "`distplot` is a deprecated function and will be removed in seaborn v0.14.0.\n",
      "\n",
      "Please adapt your code to use either `displot` (a figure-level function with\n",
      "similar flexibility) or `histplot` (an axes-level function for histograms).\n",
      "\n",
      "For a guide to updating your code to use the new functions, please see\n",
      "https://gist.github.com/mwaskom/de44147ed2974457ad6372750bbe5751\n",
      "\n",
      "  sns.distplot(states_train['entities_num'],bins=10,color='r')\n",
      "C:\\Users\\kitx86\\AppData\\Local\\Temp\\ipykernel_14440\\3022338940.py:4: UserWarning: \n",
      "\n",
      "`distplot` is a deprecated function and will be removed in seaborn v0.14.0.\n",
      "\n",
      "Please adapt your code to use either `displot` (a figure-level function with\n",
      "similar flexibility) or `histplot` (an axes-level function for histograms).\n",
      "\n",
      "For a guide to updating your code to use the new functions, please see\n",
      "https://gist.github.com/mwaskom/de44147ed2974457ad6372750bbe5751\n",
      "\n",
      "  sns.distplot(states_test['entities_num'],bins=10,color='b')\n"
     ]
    },
    {
     "data": {
      "image/png": "[encoded data removed]",
      "text/plain": [
       "<Figure size 640x480 with 1 Axes>"
      ]
     },
     "metadata": {},
     "output_type": "display_data"
    }
   ],
   "source": [
    "plt.title(\"entities nums\")\n",
    "print(states_train['entities_num'].quantile(0.95))\n",
    "sns.distplot(states_train['entities_num'],bins=10,color='r')\n",
    "sns.distplot(states_test['entities_num'],bins=10,color='b')\n",
    "plt.show()"
   ]
  },
  {
   "cell_type": "markdown",
   "metadata": {},
   "source": [
    "### 2.3 标签分布"
   ]
  },
  {
   "cell_type": "code",
   "execution_count": 16,
   "metadata": {
    "execution": {
     "iopub.execute_input": "2022-07-14T03:54:46.243777Z",
     "iopub.status.busy": "2022-07-14T03:54:46.243214Z",
     "iopub.status.idle": "2022-07-14T03:54:46.337921Z",
     "shell.execute_reply": "2022-07-14T03:54:46.337102Z",
     "shell.execute_reply.started": "2022-07-14T03:54:46.243748Z"
    },
    "scrolled": false,
    "tags": []
   },
   "outputs": [
    {
     "name": "stdout",
     "output_type": "stream",
     "text": [
      "label\n",
      "0    4932\n",
      "1    2903\n",
      "Name: count, dtype: int64\n"
     ]
    },
    {
     "data": {
      "image/png": "[encoded data removed]",
      "text/plain": [
       "<Figure size 640x480 with 1 Axes>"
      ]
     },
     "metadata": {},
     "output_type": "display_data"
    }
   ],
   "source": [
    "print(states_train['label'].value_counts())\n",
    "plt.title(\"label distribution\")\n",
    "sns.countplot(y='label',data=states_train)\n",
    "plt.show()"
   ]
  },
  {
   "cell_type": "markdown",
   "metadata": {},
   "source": [
    "### 2.4 拼接实体信息\n",
    "\n",
    "简单将标题和实体信息进行拼接"
   ]
  },
  {
   "cell_type": "code",
   "execution_count": 17,
   "metadata": {
    "execution": {
     "iopub.execute_input": "2022-07-14T03:54:46.339560Z",
     "iopub.status.busy": "2022-07-14T03:54:46.339022Z",
     "iopub.status.idle": "2022-07-14T03:54:46.505627Z",
     "shell.execute_reply": "2022-07-14T03:54:46.504840Z",
     "shell.execute_reply.started": "2022-07-14T03:54:46.339533Z"
    },
    "scrolled": false,
    "tags": []
   },
   "outputs": [
    {
     "name": "stdout",
     "output_type": "stream",
     "text": [
      "243.29999999999927\n"
     ]
    },
    {
     "name": "stderr",
     "output_type": "stream",
     "text": [
      "C:\\Users\\kitx86\\AppData\\Local\\Temp\\ipykernel_14440\\4000614750.py:3: UserWarning: \n",
      "\n",
      "`distplot` is a deprecated function and will be removed in seaborn v0.14.0.\n",
      "\n",
      "Please adapt your code to use either `displot` (a figure-level function with\n",
      "similar flexibility) or `histplot` (an axes-level function for histograms).\n",
      "\n",
      "For a guide to updating your code to use the new functions, please see\n",
      "https://gist.github.com/mwaskom/de44147ed2974457ad6372750bbe5751\n",
      "\n",
      "  sns.distplot(states_train['concat_len'],bins=10,color='r')\n",
      "C:\\Users\\kitx86\\AppData\\Local\\Temp\\ipykernel_14440\\4000614750.py:4: UserWarning: \n",
      "\n",
      "`distplot` is a deprecated function and will be removed in seaborn v0.14.0.\n",
      "\n",
      "Please adapt your code to use either `displot` (a figure-level function with\n",
      "similar flexibility) or `histplot` (an axes-level function for histograms).\n",
      "\n",
      "For a guide to updating your code to use the new functions, please see\n",
      "https://gist.github.com/mwaskom/de44147ed2974457ad6372750bbe5751\n",
      "\n",
      "  sns.distplot(states_test['concat_len'],bins=10,color='b')\n"
     ]
    },
    {
     "data": {
      "image/png": "[encoded data removed]",
      "text/plain": [
       "<Figure size 640x480 with 1 Axes>"
      ]
     },
     "metadata": {},
     "output_type": "display_data"
    }
   ],
   "source": [
    "plt.title(\"concat_entities text length\")\n",
    "print(states_train['concat_len'].quantile(0.95))\n",
    "sns.distplot(states_train['concat_len'],bins=10,color='r')\n",
    "sns.distplot(states_test['concat_len'],bins=10,color='b')\n",
    "plt.show()"
   ]
  },
  {
   "cell_type": "markdown",
   "metadata": {},
   "source": [
    "### 2.5 拼接Topk个正文段落\n",
    "\n",
    "通过相似度模型检索topk个相关正文段落，并进行文本长度统计"
   ]
  },
  {
   "cell_type": "code",
   "execution_count": 18,
   "metadata": {
    "execution": {
     "iopub.execute_input": "2022-07-14T03:54:46.509630Z",
     "iopub.status.busy": "2022-07-14T03:54:46.509102Z",
     "iopub.status.idle": "2022-07-14T03:54:46.686951Z",
     "shell.execute_reply": "2022-07-14T03:54:46.686091Z",
     "shell.execute_reply.started": "2022-07-14T03:54:46.509602Z"
    },
    "scrolled": false,
    "tags": []
   },
   "outputs": [
    {
     "name": "stdout",
     "output_type": "stream",
     "text": [
      "596.0\n"
     ]
    },
    {
     "name": "stderr",
     "output_type": "stream",
     "text": [
      "C:\\Users\\kitx86\\AppData\\Local\\Temp\\ipykernel_14440\\4088683616.py:3: UserWarning: \n",
      "\n",
      "`distplot` is a deprecated function and will be removed in seaborn v0.14.0.\n",
      "\n",
      "Please adapt your code to use either `displot` (a figure-level function with\n",
      "similar flexibility) or `histplot` (an axes-level function for histograms).\n",
      "\n",
      "For a guide to updating your code to use the new functions, please see\n",
      "https://gist.github.com/mwaskom/de44147ed2974457ad6372750bbe5751\n",
      "\n",
      "  sns.distplot(states_train['concat_content_len'],bins=10,color='r')\n",
      "C:\\Users\\kitx86\\AppData\\Local\\Temp\\ipykernel_14440\\4088683616.py:4: UserWarning: \n",
      "\n",
      "`distplot` is a deprecated function and will be removed in seaborn v0.14.0.\n",
      "\n",
      "Please adapt your code to use either `displot` (a figure-level function with\n",
      "similar flexibility) or `histplot` (an axes-level function for histograms).\n",
      "\n",
      "For a guide to updating your code to use the new functions, please see\n",
      "https://gist.github.com/mwaskom/de44147ed2974457ad6372750bbe5751\n",
      "\n",
      "  sns.distplot(states_test['concat_content_len'],bins=10,color='b')\n"
     ]
    },
    {
     "data": {
      "image/png": "[encoded data removed]",
      "text/plain": [
       "<Figure size 640x480 with 1 Axes>"
      ]
     },
     "metadata": {},
     "output_type": "display_data"
    }
   ],
   "source": [
    "plt.title(\"concat_content text length\")\n",
    "print(states_train['concat_content_len'].quantile(0.95))\n",
    "sns.distplot(states_train['concat_content_len'],bins=10,color='r')\n",
    "sns.distplot(states_test['concat_content_len'],bins=10,color='b')\n",
    "plt.show()"
   ]
  },
  {
   "cell_type": "markdown",
   "metadata": {
    "execution": {
     "iopub.execute_input": "2022-06-29T06:25:45.879362Z",
     "iopub.status.busy": "2022-06-29T06:25:45.878665Z",
     "iopub.status.idle": "2022-06-29T06:25:45.885544Z",
     "shell.execute_reply": "2022-06-29T06:25:45.884488Z",
     "shell.execute_reply.started": "2022-06-29T06:25:45.879311Z"
    },
    "tags": []
   },
   "source": [
    "### 2.4 EDA总结\n",
    "\n",
    "- 文本标题长度最大不超过80字，大多（99%）在50字以下，正文的文本长度大部分超过千字。\n",
    "- 实体个数上看，大部分（95%）不超过48个实体。\n",
    "- 标签分布上看，优质文章(2903)比非优质文章(4932)更少,存在不平衡情况。\n",
    "- 此外还统计了拼接实体和拼接检索topk正文段落的句子长度，便于后续设置最大截断长度。\n",
    "\n",
    "针对EDA中的情况，主要采用以下四种策略：\n",
    "- 仅标题（最大截断长度 50）\n",
    "- 标题 + 正文直接截断（最大截断长度 256 / 512）\n",
    "- 标题 + 实体信息（最大截断长度 250）\n",
    "- 标题 + Topk个正文段落（由实体信息相似度计算得到）（最大截断长度 512）"
   ]
  },
  {
   "cell_type": "markdown",
   "metadata": {},
   "source": [
    "# 3 数据处理"
   ]
  },
  {
   "cell_type": "code",
   "execution_count": 19,
   "metadata": {
    "scrolled": true,
    "tags": []
   },
   "outputs": [
    {
     "data": {
      "text/plain": [
       "dict_keys(['ernie-1.0', 'ernie-1.0-base-zh', 'ernie-1.0-base-zh-cw', 'ernie-1.0-large-zh-cw', 'ernie-tiny', 'ernie-2.0-base-zh', 'ernie-2.0-large-zh', 'ernie-2.0-base-en', 'ernie-2.0-base-en-finetuned-squad', 'ernie-2.0-large-en', 'ernie-gen-base-en', 'ernie-gen-large-en', 'ernie-gen-large-en-430g', 'rocketqa-zh-dureader-query-encoder', 'rocketqa-zh-dureader-para-encoder', 'rocketqa-v1-marco-query-encoder', 'rocketqa-v1-marco-para-encoder', 'rocketqa-zh-dureader-cross-encoder', 'rocketqa-v1-marco-cross-encoder', 'ernie-3.0-base-zh', 'ernie-3.0-xbase-zh', 'ernie-3.0-medium-zh', 'ernie-3.0-mini-zh', 'ernie-3.0-micro-zh', 'ernie-3.0-nano-zh', 'ernie-3.0-tiny-base-v1-zh', 'ernie-3.0-tiny-medium-v1-zh', 'ernie-3.0-tiny-mini-v1-zh', 'ernie-3.0-tiny-micro-v1-zh', 'ernie-3.0-tiny-nano-v1-zh', 'rocketqa-zh-base-query-encoder', 'rocketqa-zh-base-para-encoder', 'rocketqa-zh-medium-query-encoder', 'rocketqa-zh-medium-para-encoder', 'rocketqa-zh-mini-query-encoder', 'rocketqa-zh-mini-para-encoder', 'rocketqa-zh-micro-query-encoder', 'rocketqa-zh-micro-para-encoder', 'rocketqa-zh-nano-query-encoder', 'rocketqa-zh-nano-para-encoder', 'rocketqa-base-cross-encoder', 'rocketqa-medium-cross-encoder', 'rocketqa-mini-cross-encoder', 'rocketqa-micro-cross-encoder', 'rocketqa-nano-cross-encoder', 'rocketqav2-en-marco-cross-encoder', 'rocketqav2-en-marco-query-encoder', 'rocketqav2-en-marco-para-encoder', 'uie-base', 'uie-medium', 'uie-mini', 'uie-micro', 'uie-nano', 'uie-base-en', 'uie-senta-base', 'uie-senta-medium', 'uie-senta-mini', 'uie-senta-micro', 'uie-senta-nano', 'uie-base-answer-extractor', 'uie-base-qa-filter', 'ernie-search-base-dual-encoder-marco-en', 'ernie-search-large-cross-encoder-marco-en', 'ernie-3.0-tiny-base-v2-zh', 'ernie-3.0-tiny-medium-v2-zh', 'ernie-3.0-tiny-mini-v2-zh', 'ernie-3.0-tiny-mini-v2-en', 'ernie-3.0-tiny-micro-v2-zh', 'ernie-3.0-tiny-nano-v2-zh', 'ernie-3.0-tiny-pico-v2-zh', 'utc-large', 'utc-xbase', 'utc-base', 'utc-medium', 'utc-mini', 'utc-micro', 'utc-nano', 'utc-pico'])"
      ]
     },
     "execution_count": 19,
     "metadata": {},
     "output_type": "execute_result"
    }
   ],
   "source": [
    "from paddlenlp.transformers.bert.tokenizer import BertTokenizer\n",
    "from paddlenlp.transformers.ernie.tokenizer import ErnieTokenizer\n",
    "\n",
    "# 查看可使用的ernie模型\n",
    "ErnieTokenizer.pretrained_resource_files_map['vocab_file'].keys()"
   ]
  },
  {
   "cell_type": "code",
   "execution_count": 24,
   "metadata": {
    "scrolled": true,
    "tags": []
   },
   "outputs": [
    {
     "name": "stderr",
     "output_type": "stream",
     "text": [
      "\u001B[32m[2024-06-09 17:20:23,556] [    INFO]\u001B[0m - Already cached C:\\Users\\kitx86\\.paddlenlp\\models\\ernie-3.0-base-zh\\ernie_3.0_base_zh_vocab.txt\u001B[0m\n",
      "\u001B[32m[2024-06-09 17:20:23,577] [    INFO]\u001B[0m - tokenizer config file saved in C:\\Users\\kitx86\\.paddlenlp\\models\\ernie-3.0-base-zh\\tokenizer_config.json\u001B[0m\n",
      "\u001B[32m[2024-06-09 17:20:23,577] [    INFO]\u001B[0m - Special tokens file saved in C:\\Users\\kitx86\\.paddlenlp\\models\\ernie-3.0-base-zh\\special_tokens_map.json\u001B[0m\n"
     ]
    }
   ],
   "source": [
    "# 加载tokenizer\n",
    "# ernie-1.0-base-zh / ernie-2.0-base-zh / ernie-3.0-base-zh\n",
    "MODEL_NAME = \"ernie-3.0-base-zh\" \n",
    "tokenizer = ErnieTokenizer.from_pretrained(MODEL_NAME)"
   ]
  },
  {
   "cell_type": "code",
   "execution_count": 21,
   "metadata": {
    "execution": {
     "iopub.execute_input": "2022-07-14T03:54:46.892871Z",
     "iopub.status.busy": "2022-07-14T03:54:46.892479Z",
     "iopub.status.idle": "2022-07-14T03:54:47.577001Z",
     "shell.execute_reply": "2022-07-14T03:54:47.576095Z",
     "shell.execute_reply.started": "2022-07-14T03:54:46.892841Z"
    },
    "scrolled": true,
    "tags": []
   },
   "outputs": [],
   "source": [
    "# 设置超参数\n",
    "max_seq_length = 256  # 50(title) /  256(title+content)  / 512(title+content) / 250(title+entity) / 512(title+sim_content)\n",
    "train_batch_size = 32\n",
    "valid_batch_size = 16\n",
    "test_batch_size = 8\n",
    "\n",
    "# 切分数据集，按照9:1划分训练集和验证集\n",
    "train_ds,valid_ds = train_test_split(states_train,test_size=0.1,random_state=seed)\n",
    "\n",
    "# 生成数据集\n",
    "# 拼接标题、实体字段，每个字段以SEP间隔,实体名称之间按'，'分隔\n",
    "def read(df,istrain=True):\n",
    "    if istrain:\n",
    "        for idx,rows in df.iterrows():\n",
    "            # words = rows['title']\n",
    "            words = rows['title'] + '[SEP]' + rows['content'] \n",
    "            # words = rows['concat_entities']\n",
    "            # words = rows['concat_content'] \n",
    "            yield{\n",
    "                \"words\":words,\n",
    "                \"labels\":rows['label']\n",
    "                }\n",
    "    else:\n",
    "        for idx,rows in df.iterrows():\n",
    "            # words = rows['title']\n",
    "            words = rows['title'] + '[SEP]' + rows['content'] \n",
    "            # words = rows['concat_entities']\n",
    "            # words = rows['concat_content'] \n",
    "            yield {\n",
    "                \"words\":words,\n",
    "                }\n",
    "\n",
    "# 将生成器传入load_dataset\n",
    "train_ds = load_dataset(read, df=train_ds, lazy=False)\n",
    "valid_ds = load_dataset(read, df=valid_ds, lazy=False)\n",
    "\n",
    "# 编码\n",
    "def convert_example(example, tokenizer, max_seq_len=512, mode='train'):\n",
    "    # 调用tokenizer的数据处理方法把文本转为id\n",
    "    tokenized_input = tokenizer(\n",
    "        example['words'],\n",
    "        is_split_into_words=True,\n",
    "        max_seq_len=max_seq_len)\n",
    "    if mode == \"test\":\n",
    "        return tokenized_input\n",
    "    # 把意图标签转为数字id\n",
    "    tokenized_input['labels'] = [example['labels']]\n",
    "    return tokenized_input\n",
    "\n",
    "train_trans_func = partial(\n",
    "        convert_example,\n",
    "        tokenizer=tokenizer,\n",
    "        mode='train',\n",
    "        max_seq_len=max_seq_length)\n",
    "\n",
    "valid_trans_func = partial(\n",
    "        convert_example,\n",
    "        tokenizer=tokenizer,\n",
    "        mode='dev',\n",
    "        max_seq_len=max_seq_length)\n",
    "\n",
    "train_ds.map(train_trans_func)\n",
    "valid_ds.map(valid_trans_func)\n",
    "\n",
    "# 初始化BatchSampler\n",
    "np.random.seed(seed)\n",
    "train_batch_sampler = paddle.io.BatchSampler(train_ds, batch_size=train_batch_size, shuffle=True)\n",
    "valid_batch_sampler = paddle.io.BatchSampler(valid_ds, batch_size=valid_batch_size, shuffle=False)\n",
    "\n",
    "# 定义batchify_fn\n",
    "batchify_fn = lambda samples, fn = Dict({\n",
    "    \"input_ids\": Pad(axis=0, pad_val=tokenizer.pad_token_id), \n",
    "    \"token_type_ids\": Pad(axis=0, pad_val=tokenizer.pad_token_type_id),\n",
    "    \"labels\": Stack(dtype=\"int64\"),\n",
    "}): fn(samples)\n",
    "\n",
    "# 初始化DataLoader\n",
    "train_data_loader = paddle.io.DataLoader(\n",
    "    dataset=train_ds,\n",
    "    batch_sampler=train_batch_sampler,\n",
    "    collate_fn=batchify_fn)\n",
    "\n",
    "valid_data_loader = paddle.io.DataLoader(\n",
    "    dataset=valid_ds,\n",
    "    batch_sampler=valid_batch_sampler,\n",
    "    collate_fn=batchify_fn)"
   ]
  },
  {
   "cell_type": "markdown",
   "metadata": {},
   "source": [
    "# 4 模型搭建"
   ]
  },
  {
   "cell_type": "code",
   "execution_count": 27,
   "metadata": {
    "scrolled": true,
    "tags": []
   },
   "outputs": [
    {
     "name": "stderr",
     "output_type": "stream",
     "text": [
      "\u001B[32m[2024-06-09 17:22:29,849] [    INFO]\u001B[0m - Already cached C:\\Users\\kitx86\\.paddlenlp\\models\\ernie-3.0-base-zh\\model_state.pdparams\u001B[0m\n",
      "\u001B[32m[2024-06-09 17:22:29,849] [    INFO]\u001B[0m - Loading weights file model_state.pdparams from cache at C:\\Users\\kitx86\\.paddlenlp\\models\\ernie-3.0-base-zh\\model_state.pdparams\u001B[0m\n",
      "\u001B[32m[2024-06-09 17:22:30,139] [    INFO]\u001B[0m - Loaded weights file from disk, setting weights to model.\u001B[0m\n"
     ]
    },
    {
     "ename": "ValueError",
     "evalue": "PretrainedConfig instance not found in the arguments, you can set it as args or kwargs with config field",
     "output_type": "error",
     "traceback": [
      "\u001B[1;31m---------------------------------------------------------------------------\u001B[0m",
      "\u001B[1;31mValueError\u001B[0m                                Traceback (most recent call last)",
      "Cell \u001B[1;32mIn[27], line 27\u001B[0m\n\u001B[0;32m     24\u001B[0m         logits \u001B[38;5;241m=\u001B[39m \u001B[38;5;28mself\u001B[39m\u001B[38;5;241m.\u001B[39mclassifier(output)\n\u001B[0;32m     25\u001B[0m         \u001B[38;5;28;01mreturn\u001B[39;00m logits\n\u001B[1;32m---> 27\u001B[0m model \u001B[38;5;241m=\u001B[39m \u001B[43mErnieForModel\u001B[49m\u001B[38;5;241;43m.\u001B[39;49m\u001B[43mfrom_pretrained\u001B[49m\u001B[43m(\u001B[49m\u001B[43mMODEL_NAME\u001B[49m\u001B[43m,\u001B[49m\u001B[43mnum_classes\u001B[49m\u001B[38;5;241;43m=\u001B[39;49m\u001B[38;5;241;43m2\u001B[39;49m\u001B[43m)\u001B[49m\n",
      "File \u001B[1;32md:\\software\\python3.11.8\\Lib\\site-packages\\paddlenlp\\transformers\\model_utils.py:1992\u001B[0m, in \u001B[0;36mPretrainedModel.from_pretrained\u001B[1;34m(cls, pretrained_model_name_or_path, from_hf_hub, subfolder, *args, **kwargs)\u001B[0m\n\u001B[0;32m   1990\u001B[0m init_args \u001B[38;5;241m=\u001B[39m config[\u001B[38;5;124m\"\u001B[39m\u001B[38;5;124minit_args\u001B[39m\u001B[38;5;124m\"\u001B[39m] \u001B[38;5;129;01mor\u001B[39;00m ()\n\u001B[0;32m   1991\u001B[0m \u001B[38;5;28;01mwith\u001B[39;00m ContextManagers(init_contexts):\n\u001B[1;32m-> 1992\u001B[0m     model \u001B[38;5;241m=\u001B[39m \u001B[38;5;28;43mcls\u001B[39;49m\u001B[43m(\u001B[49m\u001B[43mconfig\u001B[49m\u001B[43m,\u001B[49m\u001B[43m \u001B[49m\u001B[38;5;241;43m*\u001B[39;49m\u001B[43minit_args\u001B[49m\u001B[43m,\u001B[49m\u001B[43m \u001B[49m\u001B[38;5;241;43m*\u001B[39;49m\u001B[38;5;241;43m*\u001B[39;49m\u001B[43mmodel_kwargs\u001B[49m\u001B[43m)\u001B[49m\n\u001B[0;32m   1994\u001B[0m \u001B[38;5;28;01mif\u001B[39;00m use_keep_in_fp32_modules:\n\u001B[0;32m   1995\u001B[0m     \u001B[38;5;66;03m# low_cpu_mem_usage = True\u001B[39;00m\n\u001B[0;32m   1996\u001B[0m     keep_in_fp32_modules \u001B[38;5;241m=\u001B[39m model\u001B[38;5;241m.\u001B[39m_keep_in_fp32_modules\n",
      "File \u001B[1;32md:\\software\\python3.11.8\\Lib\\site-packages\\paddlenlp\\transformers\\utils.py:253\u001B[0m, in \u001B[0;36mInitTrackerMeta.init_and_track_conf.<locals>.__impl__\u001B[1;34m(self, *args, **kwargs)\u001B[0m\n\u001B[0;32m    251\u001B[0m     pre_init_func(\u001B[38;5;28mself\u001B[39m, init_func, \u001B[38;5;241m*\u001B[39margs, \u001B[38;5;241m*\u001B[39m\u001B[38;5;241m*\u001B[39mkwargs)\n\u001B[0;32m    252\u001B[0m \u001B[38;5;66;03m# keep full configuration\u001B[39;00m\n\u001B[1;32m--> 253\u001B[0m \u001B[43minit_func\u001B[49m\u001B[43m(\u001B[49m\u001B[38;5;28;43mself\u001B[39;49m\u001B[43m,\u001B[49m\u001B[43m \u001B[49m\u001B[38;5;241;43m*\u001B[39;49m\u001B[43margs\u001B[49m\u001B[43m,\u001B[49m\u001B[43m \u001B[49m\u001B[38;5;241;43m*\u001B[39;49m\u001B[38;5;241;43m*\u001B[39;49m\u001B[43mkwargs\u001B[49m\u001B[43m)\u001B[49m\n\u001B[0;32m    254\u001B[0m \u001B[38;5;66;03m# registed helper by `post_init_func`\u001B[39;00m\n\u001B[0;32m    255\u001B[0m \u001B[38;5;28;01mif\u001B[39;00m post_init_func:\n",
      "Cell \u001B[1;32mIn[27], line 7\u001B[0m, in \u001B[0;36mErnieForModel.__init__\u001B[1;34m(self, ernie, num_classes, dropout)\u001B[0m\n\u001B[0;32m      6\u001B[0m \u001B[38;5;28;01mdef\u001B[39;00m \u001B[38;5;21m__init__\u001B[39m(\u001B[38;5;28mself\u001B[39m, ernie, num_classes\u001B[38;5;241m=\u001B[39m\u001B[38;5;28;01mNone\u001B[39;00m, dropout\u001B[38;5;241m=\u001B[39m\u001B[38;5;28;01mNone\u001B[39;00m):\n\u001B[1;32m----> 7\u001B[0m     \u001B[38;5;28;43msuper\u001B[39;49m\u001B[43m(\u001B[49m\u001B[43m)\u001B[49m\u001B[38;5;241;43m.\u001B[39;49m\u001B[38;5;21;43m__init__\u001B[39;49m\u001B[43m(\u001B[49m\u001B[43m)\u001B[49m\n\u001B[0;32m      8\u001B[0m     \u001B[38;5;66;03m# 预训练模型\u001B[39;00m\n\u001B[0;32m      9\u001B[0m     \u001B[38;5;28mself\u001B[39m\u001B[38;5;241m.\u001B[39mernie \u001B[38;5;241m=\u001B[39m ernie\n",
      "File \u001B[1;32md:\\software\\python3.11.8\\Lib\\site-packages\\paddlenlp\\transformers\\utils.py:253\u001B[0m, in \u001B[0;36mInitTrackerMeta.init_and_track_conf.<locals>.__impl__\u001B[1;34m(self, *args, **kwargs)\u001B[0m\n\u001B[0;32m    251\u001B[0m     pre_init_func(\u001B[38;5;28mself\u001B[39m, init_func, \u001B[38;5;241m*\u001B[39margs, \u001B[38;5;241m*\u001B[39m\u001B[38;5;241m*\u001B[39mkwargs)\n\u001B[0;32m    252\u001B[0m \u001B[38;5;66;03m# keep full configuration\u001B[39;00m\n\u001B[1;32m--> 253\u001B[0m \u001B[43minit_func\u001B[49m\u001B[43m(\u001B[49m\u001B[38;5;28;43mself\u001B[39;49m\u001B[43m,\u001B[49m\u001B[43m \u001B[49m\u001B[38;5;241;43m*\u001B[39;49m\u001B[43margs\u001B[49m\u001B[43m,\u001B[49m\u001B[43m \u001B[49m\u001B[38;5;241;43m*\u001B[39;49m\u001B[38;5;241;43m*\u001B[39;49m\u001B[43mkwargs\u001B[49m\u001B[43m)\u001B[49m\n\u001B[0;32m    254\u001B[0m \u001B[38;5;66;03m# registed helper by `post_init_func`\u001B[39;00m\n\u001B[0;32m    255\u001B[0m \u001B[38;5;28;01mif\u001B[39;00m post_init_func:\n",
      "File \u001B[1;32md:\\software\\python3.11.8\\Lib\\site-packages\\paddlenlp\\transformers\\utils.py:253\u001B[0m, in \u001B[0;36mInitTrackerMeta.init_and_track_conf.<locals>.__impl__\u001B[1;34m(self, *args, **kwargs)\u001B[0m\n\u001B[0;32m    251\u001B[0m     pre_init_func(\u001B[38;5;28mself\u001B[39m, init_func, \u001B[38;5;241m*\u001B[39margs, \u001B[38;5;241m*\u001B[39m\u001B[38;5;241m*\u001B[39mkwargs)\n\u001B[0;32m    252\u001B[0m \u001B[38;5;66;03m# keep full configuration\u001B[39;00m\n\u001B[1;32m--> 253\u001B[0m \u001B[43minit_func\u001B[49m\u001B[43m(\u001B[49m\u001B[38;5;28;43mself\u001B[39;49m\u001B[43m,\u001B[49m\u001B[43m \u001B[49m\u001B[38;5;241;43m*\u001B[39;49m\u001B[43margs\u001B[49m\u001B[43m,\u001B[49m\u001B[43m \u001B[49m\u001B[38;5;241;43m*\u001B[39;49m\u001B[38;5;241;43m*\u001B[39;49m\u001B[43mkwargs\u001B[49m\u001B[43m)\u001B[49m\n\u001B[0;32m    254\u001B[0m \u001B[38;5;66;03m# registed helper by `post_init_func`\u001B[39;00m\n\u001B[0;32m    255\u001B[0m \u001B[38;5;28;01mif\u001B[39;00m post_init_func:\n",
      "File \u001B[1;32md:\\software\\python3.11.8\\Lib\\site-packages\\paddlenlp\\transformers\\model_utils.py:880\u001B[0m, in \u001B[0;36mPretrainedModel.__init__\u001B[1;34m(self, *args, **kwargs)\u001B[0m\n\u001B[0;32m    878\u001B[0m \u001B[38;5;66;03m# extract config from kwargs\u001B[39;00m\n\u001B[0;32m    879\u001B[0m \u001B[38;5;28;01mif\u001B[39;00m \u001B[38;5;124m\"\u001B[39m\u001B[38;5;124mconfig\u001B[39m\u001B[38;5;124m\"\u001B[39m \u001B[38;5;129;01mnot\u001B[39;00m \u001B[38;5;129;01min\u001B[39;00m kwargs:\n\u001B[1;32m--> 880\u001B[0m     \u001B[38;5;28;01mraise\u001B[39;00m \u001B[38;5;167;01mValueError\u001B[39;00m(\n\u001B[0;32m    881\u001B[0m         \u001B[38;5;124m\"\u001B[39m\u001B[38;5;124mPretrainedConfig instance not found in the arguments, you can set it as args or kwargs with config field\u001B[39m\u001B[38;5;124m\"\u001B[39m\n\u001B[0;32m    882\u001B[0m     )\n\u001B[0;32m    884\u001B[0m config \u001B[38;5;241m=\u001B[39m kwargs[\u001B[38;5;124m\"\u001B[39m\u001B[38;5;124mconfig\u001B[39m\u001B[38;5;124m\"\u001B[39m]\n\u001B[0;32m    885\u001B[0m \u001B[38;5;28;01mif\u001B[39;00m \u001B[38;5;129;01mnot\u001B[39;00m \u001B[38;5;28misinstance\u001B[39m(config, PretrainedConfig):\n",
      "\u001B[1;31mValueError\u001B[0m: PretrainedConfig instance not found in the arguments, you can set it as args or kwargs with config field"
     ]
    }
   ],
   "source": [
    "import paddle\n",
    "from paddle import nn\n",
    "from paddlenlp.transformers.ernie.modeling import ErniePretrainedModel\n",
    "# Ernie\n",
    "class ErnieForModel(ErniePretrainedModel):\n",
    "    def __init__(self, ernie, num_classes=None, dropout=None):\n",
    "        super().__init__()\n",
    "        # 预训练模型\n",
    "        self.ernie = ernie\n",
    "        self.num_classes = num_classes \n",
    "        self.dropout = nn.Dropout(self.ernie.config['hidden_dropout_prob'])\n",
    "        self.classifier = nn.Linear(self.ernie.config['hidden_size'], self.num_classes)\n",
    "        self.apply(self.init_weights)\n",
    "\n",
    "    def forward(self,input_ids,token_type_ids=None, layer_mode=None):\n",
    "        sequence_output , pooled_output = self.ernie(input_ids,token_type_ids=token_type_ids)\n",
    "        if layer_mode is None:\n",
    "            output = sequence_output.mean(axis=1)\n",
    "        elif layer_mode == \"cls_pooling\":\n",
    "            output = pooled_output\n",
    "        elif layer_mode == \"mean_pooling\":\n",
    "            output = sequence_output.mean(axis=1)\n",
    "        output = self.dropout(output) \n",
    "        logits = self.classifier(output)\n",
    "        return logits\n",
    "\n",
    "model = ErnieForModel.from_pretrained(MODEL_NAME,num_classes=2)"
   ]
  },
  {
   "cell_type": "markdown",
   "metadata": {},
   "source": [
    "# 5 模型配置"
   ]
  },
  {
   "cell_type": "code",
   "execution_count": 16,
   "metadata": {
    "execution": {
     "iopub.execute_input": "2022-07-14T03:55:07.375143Z",
     "iopub.status.busy": "2022-07-14T03:55:07.374307Z",
     "iopub.status.idle": "2022-07-14T03:55:07.385341Z",
     "shell.execute_reply": "2022-07-14T03:55:07.384429Z",
     "shell.execute_reply.started": "2022-07-14T03:55:07.375092Z"
    },
    "scrolled": true,
    "tags": []
   },
   "outputs": [],
   "source": [
    "# 训练过程中的最大学习率\n",
    "learning_rate = 5e-5\n",
    "# 训练轮次\n",
    "epochs = 4\n",
    "# 学习率预热比例\n",
    "warmup_proportion = 0.1\n",
    "# 权重衰减系数，类似模型正则项策略，避免模型过拟合\n",
    "weight_decay = 0.01\n",
    "max_grad_norm = 1.0\n",
    "# 训练结束后，存储模型参数\n",
    "save_dir_curr = \"checkpoint/model\"\n",
    "# 记录训练epoch、损失等值\n",
    "loggiing_print = 10\n",
    "loggiing_eval = 50\n",
    "\n",
    "# 训练总步数\n",
    "num_training_steps = len(train_data_loader) * epochs\n",
    "\n",
    "# 学习率衰减策略\n",
    "lr_scheduler = paddlenlp.transformers.LinearDecayWithWarmup(learning_rate, num_training_steps,warmup_proportion)\n",
    "\n",
    "decay_params = [\n",
    "    p.name for n, p in model.named_parameters()\n",
    "    if not any(nd in n for nd in [\"bias\", \"norm\"])\n",
    "]\n",
    "\n",
    "# 定义AdamW优化器\n",
    "optimizer = paddle.optimizer.AdamW(\n",
    "    learning_rate=lr_scheduler,\n",
    "    parameters=model.parameters(),\n",
    "    weight_decay=weight_decay,\n",
    "    apply_decay_param_fun=lambda x: x in decay_params,\n",
    "    grad_clip=paddle.nn.ClipGradByGlobalNorm(max_grad_norm))\n",
    "    \n",
    "# 交叉熵损失函数\n",
    "criterion = paddle.nn.loss.CrossEntropyLoss()"
   ]
  },
  {
   "cell_type": "markdown",
   "metadata": {},
   "source": [
    "# 6 模型训练"
   ]
  },
  {
   "cell_type": "code",
   "execution_count": 17,
   "metadata": {
    "execution": {
     "iopub.execute_input": "2022-07-14T03:55:07.387444Z",
     "iopub.status.busy": "2022-07-14T03:55:07.387056Z",
     "iopub.status.idle": "2022-07-14T03:55:07.401184Z",
     "shell.execute_reply": "2022-07-14T03:55:07.400303Z",
     "shell.execute_reply.started": "2022-07-14T03:55:07.387407Z"
    },
    "scrolled": true,
    "tags": []
   },
   "outputs": [],
   "source": [
    "# 验证部分\n",
    "@paddle.no_grad()\n",
    "def evaluation(model, data_loader):\n",
    "    model.eval()\n",
    "    real_s = []\n",
    "    pred_s = []\n",
    "    for batch in data_loader:\n",
    "        input_ids, token_type_ids, labels = batch\n",
    "        logits = model(input_ids, token_type_ids)\n",
    "        probs = F.softmax(logits, axis=1)\n",
    "        pred_s.extend(probs.argmax(axis=1).numpy())\n",
    "        real_s.extend(labels.reshape([-1]).numpy())\n",
    "    score =  f1_score(y_pred=pred_s,y_true=real_s,average='micro')\n",
    "    print(classification_report(y_pred=pred_s,y_true=real_s))\n",
    "    return score\n",
    "\n",
    "# 训练阶段\n",
    "def do_train(model,data_loader):\n",
    "    tic_train = time.time()\n",
    "    model_total_epochs = 0\n",
    "    best_score = 0.\n",
    "    training_loss = 0\n",
    "    # 训练\n",
    "    print(\"train ...\")\n",
    "    model.train()\n",
    "    for epoch in range(0, epochs):\n",
    "        for step, batch in enumerate(data_loader, start=1):\n",
    "            input_ids, token_type_ids, labels = batch\n",
    "            logits = model(input_ids, token_type_ids)\n",
    "            # 计算损失函数值\n",
    "            loss = criterion(logits, labels)\n",
    "            # 预测分类概率值\n",
    "            probs = F.softmax(logits, axis=1)\n",
    "            score =  f1_score(probs.argmax(axis=1),labels.reshape([-1]),average='micro')\n",
    "            model_total_epochs += 1\n",
    "            if model_total_epochs % loggiing_print == 0:\n",
    "                print(\"step: %d / %d, training loss: %.4f F1: %.4f speed: %.2f step/s\" % (model_total_epochs, num_training_steps, loss.numpy(), score, (10 / (time.time() - tic_train))))\n",
    "            \n",
    "            loss.backward()\n",
    "            optimizer.step()\n",
    "            lr_scheduler.step()\n",
    "            optimizer.clear_grad()\n",
    "            \n",
    "            if model_total_epochs % loggiing_eval == 0:\n",
    "                \n",
    "                eval_score = evaluation(model, valid_data_loader)\n",
    "                model.train()\n",
    "\n",
    "                print(\"eval f1: %.5f best f1: %.5f \" % (eval_score,best_score))\n",
    "                if best_score  < eval_score:\n",
    "                    print(\"F1 update %.5f ---> %.5f \" % (best_score,eval_score))\n",
    "                    best_score  = eval_score\n",
    "                    # 保存模型\n",
    "                    os.makedirs(save_dir_curr,exist_ok=True)\n",
    "                    save_param_path = os.path.join(save_dir_curr, 'model_best.pdparams')\n",
    "                    paddle.save(model.state_dict(), save_param_path)\n",
    "                    # 保存tokenizer\n",
    "                    tokenizer.save_pretrained(save_dir_curr)\n",
    "            tic_train = time.time()\n",
    "\n",
    "    return best_score"
   ]
  },
  {
   "cell_type": "code",
   "execution_count": null,
   "metadata": {
    "scrolled": false,
    "tags": []
   },
   "outputs": [],
   "source": [
    "best_score = do_train(model,train_data_loader)"
   ]
  },
  {
   "cell_type": "code",
   "execution_count": null,
   "metadata": {
    "scrolled": false,
    "tags": []
   },
   "outputs": [],
   "source": [
    "# logging part\n",
    "logging_dir = 'work/logging_print'\n",
    "logging_name = os.path.join(logging_dir,'run_logging.csv')\n",
    "os.makedirs(logging_dir,exist_ok=True)\n",
    "\n",
    "var = [seed, MODEL_NAME, learning_rate, max_seq_length, best_score]\n",
    "names = ['seed', 'model', 'lr', \"max_len\" ,\"best_f1\"]\n",
    "vars_dict = {k: v for k, v in zip(names, var)}\n",
    "results = dict(**vars_dict)\n",
    "keys = list(results.keys())\n",
    "values = list(results.values())\n",
    "\n",
    "if not os.path.exists(logging_name):    \n",
    "    ori = []\n",
    "    ori.append(values)\n",
    "    logging_df = pd.DataFrame(ori, columns=keys)\n",
    "    logging_df.to_csv(logging_name, index=False)\n",
    "else:\n",
    "    logging_df= pd.read_csv(logging_name)\n",
    "    new = pd.DataFrame(results, index=[1])\n",
    "    logging_df = logging_df.append(new, ignore_index=True)\n",
    "    logging_df.to_csv(logging_name, index=False)  \n",
    "\n",
    "print(\"best pearsonr score: %.5f\" % best_score)\n",
    "print(logging_df)"
   ]
  },
  {
   "cell_type": "markdown",
   "metadata": {},
   "source": [
    "# 7 预测结果"
   ]
  },
  {
   "cell_type": "code",
   "execution_count": 22,
   "metadata": {
    "execution": {
     "iopub.execute_input": "2022-07-14T04:08:00.354660Z",
     "iopub.status.busy": "2022-07-14T04:08:00.353424Z",
     "iopub.status.idle": "2022-07-14T04:08:35.367584Z",
     "shell.execute_reply": "2022-07-14T04:08:35.366761Z",
     "shell.execute_reply.started": "2022-07-14T04:08:00.354611Z"
    },
    "scrolled": true,
    "tags": []
   },
   "outputs": [
    {
     "name": "stdout",
     "output_type": "stream",
     "text": [
      "predict start ...\r\n",
      "predict end ...\r\n"
     ]
    }
   ],
   "source": [
    "# 相同方式构造测试集\n",
    "test_ds = load_dataset(read,df=states_test, istrain=False, lazy=False)\n",
    "\n",
    "test_trans_func = partial(\n",
    "        convert_example,\n",
    "        tokenizer=tokenizer,\n",
    "        mode='test',\n",
    "        max_seq_len=max_seq_length)\n",
    "\n",
    "test_ds.map(test_trans_func, lazy=False)\n",
    "\n",
    "test_batch_sampler = paddle.io.BatchSampler(test_ds, batch_size=test_batch_size, shuffle=False)\n",
    "\n",
    "test_batchify_fn = lambda samples, fn = Dict({\n",
    "    \"input_ids\": Pad(axis=0, pad_val=tokenizer.pad_token_id), \n",
    "    \"token_type_ids\": Pad(axis=0, pad_val=tokenizer.pad_token_type_id),\n",
    "}): fn(samples)\n",
    "\n",
    "test_data_loader = paddle.io.DataLoader(\n",
    "    dataset=test_ds,\n",
    "    batch_sampler=test_batch_sampler,\n",
    "    collate_fn=test_batchify_fn,\n",
    "    return_list=True)\n",
    "\n",
    "# 预测阶段\n",
    "def do_sample_predict(model,data_loader):\n",
    "    model.eval()\n",
    "    preds = []\n",
    "    for batch in data_loader:\n",
    "        input_ids, token_type_ids= batch\n",
    "        logits = model(input_ids, token_type_ids)\n",
    "        probs = F.softmax(logits, axis=1)\n",
    "        preds.extend(probs.argmax(axis=1).numpy())\n",
    "    return preds\n",
    "\n",
    "# 读取最佳模型\n",
    "state_dict = paddle.load(os.path.join(save_dir_curr,'model_best.pdparams'))\n",
    "model.load_dict(state_dict)\n",
    "\n",
    "# 预测\n",
    "print(\"predict start ...\")\n",
    "preds = do_sample_predict(model,test_data_loader)\n",
    "print(\"predict end ...\")"
   ]
  },
  {
   "cell_type": "code",
   "execution_count": 23,
   "metadata": {
    "execution": {
     "iopub.execute_input": "2022-07-14T04:08:35.387343Z",
     "iopub.status.busy": "2022-07-14T04:08:35.387012Z",
     "iopub.status.idle": "2022-07-14T04:08:35.396915Z",
     "shell.execute_reply": "2022-07-14T04:08:35.396261Z",
     "shell.execute_reply.started": "2022-07-14T04:08:35.387318Z"
    },
    "scrolled": true,
    "tags": []
   },
   "outputs": [
    {
     "data": {
      "text/plain": [
       "pred\n",
       "0       719\n",
       "1       359\n",
       "dtype: int64"
      ]
     },
     "execution_count": 23,
     "metadata": {},
     "output_type": "execute_result"
    }
   ],
   "source": [
    "pd.DataFrame(preds,columns=['pred']).value_counts()"
   ]
  },
  {
   "cell_type": "markdown",
   "metadata": {},
   "source": [
    "# 生成提交文件\n",
    "\n",
    "提交格式如下：\n",
    "```\n",
    "{\n",
    "    \"url\": \"http://baijiahao.baidu.com/s?id=1657091325677517018\",\n",
    "    \"label\": 0\n",
    "}\n",
    "```\n",
    "\n",
    "文件需要以result.txt命名"
   ]
  },
  {
   "cell_type": "code",
   "execution_count": 24,
   "metadata": {
    "execution": {
     "iopub.execute_input": "2022-07-14T04:08:46.258823Z",
     "iopub.status.busy": "2022-07-14T04:08:46.257519Z",
     "iopub.status.idle": "2022-07-14T04:08:46.277079Z",
     "shell.execute_reply": "2022-07-14T04:08:46.276381Z",
     "shell.execute_reply.started": "2022-07-14T04:08:46.258776Z"
    },
    "scrolled": true,
    "tags": []
   },
   "outputs": [
    {
     "name": "stdout",
     "output_type": "stream",
     "text": [
      "已生成提交文件work/result.txt\r\n"
     ]
    }
   ],
   "source": [
    "# 提交文件名称\n",
    "sumbit_name = \"work/result.txt\"\n",
    "submit_data = []\n",
    "for idx,item in enumerate(test):\n",
    "    submit_data.append({'url':item[\"url\"],\"label\":int(preds[idx])})\n",
    "with open(sumbit_name,'w') as f:\n",
    "    for line in submit_data:\n",
    "        jsonData = json.dumps(line,ensure_ascii=False)\n",
    "        f.write(jsonData + os.linesep)\n",
    "print(f\"已生成提交文件{sumbit_name}\")"
   ]
  }
 ],
 "metadata": {
  "kernelspec": {
   "display_name": "Python 3",
   "language": "python",
   "name": "python3"
  },
  "language_info": {
   "codemirror_mode": {
    "name": "ipython",
    "version": 3
   },
   "file_extension": ".py",
   "mimetype": "text/x-python",
   "name": "python",
   "nbconvert_exporter": "python",
   "pygments_lexer": "ipython3",
   "version": "3.11.8"
  }
 },
 "nbformat": 4,
 "nbformat_minor": 4
}
