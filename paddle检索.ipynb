{
 "cells": [
  {
   "cell_type": "markdown",
   "source": [
    "PaddleNLP提供一键预测功能，无需训练，直接输入数据即可开放域抽取结果。这里以信息抽取-命名实体识别任务，UIE模型为例：\n",
    "\n",
    "为了实现更极致的模型部署性能，安装FastTokenizer后只需在AutoTokenizer API上打开 use_fast=True选项，即可调用C++实现的高性能分词算子，轻松获得超Python百余倍的文本处理加速"
   ],
   "metadata": {
    "collapsed": false
   }
  },
  {
   "cell_type": "code",
   "execution_count": 10,
   "metadata": {
    "collapsed": true,
    "ExecuteTime": {
     "end_time": "2024-05-30T08:01:36.534606500Z",
     "start_time": "2024-05-30T08:01:34.242932Z"
    }
   },
   "outputs": [
    {
     "name": "stderr",
     "output_type": "stream",
     "text": [
      "\u001B[33m[2024-05-30 16:01:35,699] [ WARNING]\u001B[0m - Can't find the fast_tokenizer package, please ensure install fast_tokenizer correctly. You can install fast_tokenizer by `pip install fast-tokenizer-python`.\u001B[0m\n",
      "\u001B[32m[2024-05-30 16:01:35,699] [    INFO]\u001B[0m - We are using <class 'paddlenlp.transformers.ernie.tokenizer.ErnieTokenizer'> to load 'C:\\Users\\kitx86\\.paddlenlp\\taskflow\\information_extraction\\uie-base'.\u001B[0m\n"
     ]
    },
    {
     "name": "stdout",
     "output_type": "stream",
     "text": [
      "[{'博物馆': [{'end': 6,\n",
      "           'probability': 0.8389906100828171,\n",
      "           'start': 1,\n",
      "           'text': '殷墟博物馆'}],\n",
      "  '街区': [{'end': 34,\n",
      "          'probability': 0.4469054300535049,\n",
      "          'start': 22,\n",
      "          'text': '“长安十二时辰”主题街区'}]}]\n"
     ]
    }
   ],
   "source": [
    "from pprint import pprint\n",
    "from paddlenlp import Taskflow\n",
    "schema = ['博物馆', '街区'] # Define the schema for entity extraction\n",
    "ie = Taskflow('information_extraction', schema=schema, use_fast=True)\n",
    "pprint(ie(\"到殷墟博物馆借助微痕增强技术解读实体甲骨；在“长安十二时辰”主题街区沉浸式体验唐代市井生活；跟随茶农到五指山下的茶田体验采摘、制茶……随着科技手段被引入旅游场景、文化和旅游更紧密地融合，智慧旅游、研学旅游等业态和产品受到人们的青睐，能够更好满足人们对于品质化、个性化旅游以及“游有所学”的需要。\"))"
   ]
  },
  {
   "cell_type": "markdown",
   "source": [
    "开源DocPrompt开放文档抽取问答模型，以ERNIE-Layout为底座，可精准理解图文信息，推理学习附加知识，准备捕捉图片、PDF等多模态文档中的每个细节。"
   ],
   "metadata": {
    "collapsed": false
   }
  },
  {
   "cell_type": "code",
   "execution_count": null,
   "outputs": [],
   "source": [
    "from pprint import pprint\n",
    "from paddlenlp import Taskflow\n",
    "docprompt = Taskflow(\"document_intelligence\")\n",
    "# 替换png\n",
    "pprint(docprompt([{\"doc\": \"./resume.png\", \"prompt\": [\"五百丁本次想要担任的是什么职位?\", \"五百丁是在哪里上的大学?\", \"大学学的是什么专业?\"]}]))\n"
   ],
   "metadata": {
    "collapsed": false
   }
  },
  {
   "cell_type": "markdown",
   "source": [
    "语句级情感分析\n",
    "整句情感分析功能当前支持二分类：正向和负向，调用示例如下："
   ],
   "metadata": {
    "collapsed": false
   }
  },
  {
   "cell_type": "code",
   "execution_count": 14,
   "outputs": [
    {
     "name": "stderr",
     "output_type": "stream",
     "text": [
      "\u001B[33m[2024-05-30 16:19:15,896] [ WARNING]\u001B[0m - Can't find the fast_tokenizer package, please ensure install fast_tokenizer correctly. You can install fast_tokenizer by `pip install fast-tokenizer-python`.\u001B[0m\n",
      "\u001B[32m[2024-05-30 16:19:15,897] [    INFO]\u001B[0m - We are using <class 'paddlenlp.transformers.ernie.tokenizer.ErnieTokenizer'> to load 'C:\\Users\\kitx86\\.paddlenlp\\taskflow\\sentiment_analysis\\uie-senta-base'.\u001B[0m\n"
     ]
    },
    {
     "name": "stdout",
     "output_type": "stream",
     "text": [
      "[{'情感倾向[正向，负向]': [{'text': '正向', 'probability': 0.9966460588177526}]}]\n"
     ]
    }
   ],
   "source": [
    "from paddlenlp import Taskflow\n",
    "schema = ['情感倾向[正向，负向]']\n",
    "senta = Taskflow(\"sentiment_analysis\", model=\"uie-senta-base\", schema=schema,use_fast=True)\n",
    "print(senta('蛋糕味道不错，店家服务也很好'))"
   ],
   "metadata": {
    "collapsed": false,
    "ExecuteTime": {
     "end_time": "2024-05-30T08:19:16.369507900Z",
     "start_time": "2024-05-30T08:19:14.414408200Z"
    }
   }
  }
 ],
 "metadata": {
  "kernelspec": {
   "display_name": "Python 3",
   "language": "python",
   "name": "python3"
  },
  "language_info": {
   "codemirror_mode": {
    "name": "ipython",
    "version": 2
   },
   "file_extension": ".py",
   "mimetype": "text/x-python",
   "name": "python",
   "nbconvert_exporter": "python",
   "pygments_lexer": "ipython2",
   "version": "2.7.6"
  }
 },
 "nbformat": 4,
 "nbformat_minor": 0
}
