{
 "cells": [
  {
   "cell_type": "code",
   "execution_count": 1,
   "metadata": {},
   "outputs": [
    {
     "name": "stdout",
     "output_type": "stream",
     "text": [
      "(2000, 512)\n"
     ]
    },
    {
     "data": {
      "image/png": "[encoded data removed]",
      "text/plain": [
       "<Figure size 640x480 with 1 Axes>"
      ]
     },
     "metadata": {},
     "output_type": "display_data"
    },
    {
     "name": "stdout",
     "output_type": "stream",
     "text": [
      "True\n",
      "2000\n"
     ]
    }
   ],
   "source": [
    "import numpy as np \n",
    "import matplotlib.pyplot as plt\n",
    "%matplotlib inline\n",
    "# 512维，data包含2000个向量，每个向量符合正态分布\n",
    "d = 512          \n",
    "n_data = 2000   \n",
    "np.random.seed(0) \n",
    "data = []\n",
    "mu = 3\n",
    "sigma = 0.1\n",
    "for i in range(n_data):\n",
    "    data.append(np.random.normal(mu, sigma, d))\n",
    "data = np.array(data).astype('float32')\n",
    "# print(data[0])\n",
    "print(data.shape)\n",
    "# 查看第6个向量是不是符合正态分布\n",
    "import matplotlib.pyplot as plt \n",
    "plt.hist(data[5])\n",
    "plt.show()\n",
    "\n",
    "# 精确索引\n",
    "query = []\n",
    "n_query = 10\n",
    "mu = 3\n",
    "sigma = 0.1\n",
    "np.random.seed(12) \n",
    "query = []\n",
    "for i in range(n_query):\n",
    "    query.append(np.random.normal(mu, sigma, d))\n",
    "query = np.array(query).astype('float32')\n",
    "\n",
    "import faiss\n",
    "index = faiss.IndexFlatL2(d)  # 构建 IndexFlatL2\n",
    "print(index.is_trained)  # False时需要train\n",
    "index.add(data)  #添加数据\n",
    "print(index.ntotal)  #index中向量的个数"
   ]
  },
  {
   "cell_type": "code",
   "execution_count": 2,
   "metadata": {},
   "outputs": [
    {
     "name": "stdout",
     "output_type": "stream",
     "text": [
      "(5, 10)\n",
      "(5, 10)\n",
      "[[0.        8.007045  8.313329  8.53525   8.560174  8.561642  8.6241665\n",
      "  8.628233  8.709977  8.77004  ]\n",
      " [0.        8.278089  8.355577  8.42606   8.462017  8.468869  8.487029\n",
      "  8.549965  8.562822  8.599199 ]\n",
      " [0.        8.152369  8.156568  8.223303  8.276015  8.376868  8.379269\n",
      "  8.406122  8.418619  8.443282 ]\n",
      " [0.        8.260519  8.336826  8.339299  8.402878  8.46439   8.474663\n",
      "  8.479043  8.485247  8.5266   ]\n",
      " [0.        8.346272  8.407202  8.462828  8.497231  8.5208    8.597084\n",
      "  8.600385  8.605134  8.630593 ]]\n",
      "[[   0  798  879  223  981 1401 1458 1174  919   26]\n",
      " [   1  981 1524 1639 1949 1472 1162  923  840  300]\n",
      " [   2 1886  375 1351  518 1735 1551 1958  390 1695]\n",
      " [   3 1459  331  389  655 1943 1483 1723 1672 1859]\n",
      " [   4   13  715 1470  608  459  888  850 1080 1654]]\n"
     ]
    }
   ],
   "source": [
    "#精确索引无需训练便可直接查询\n",
    "k = 10  # 返回结果个数\n",
    "query_self = data[:5]  # 查询本身\n",
    "dis, ind = index.search(query_self, k)\n",
    "print(dis.shape) # 打印张量 (5, 10)\n",
    "print(ind.shape) # 打印张量 (5, 10)\n",
    "print(dis)  # 升序返回每个查询向量的距离\n",
    "print(ind)  # 升序返回每个查询向量\n"
   ]
  },
  {
   "cell_type": "code",
   "execution_count": 2,
   "metadata": {},
   "outputs": [
    {
     "name": "stdout",
     "output_type": "stream",
     "text": [
      "(5, 10)\n",
      "(5, 10)\n",
      "[[0.        8.007045  8.313329  8.53525   8.560174  8.561642  8.6241665\n",
      "  8.628233  8.709977  8.77004  ]\n",
      " [0.        8.278089  8.355577  8.42606   8.462017  8.468869  8.487029\n",
      "  8.549965  8.562822  8.599199 ]\n",
      " [0.        8.152369  8.156568  8.223303  8.276015  8.376868  8.379269\n",
      "  8.406122  8.418619  8.443282 ]\n",
      " [0.        8.260519  8.336826  8.339299  8.402878  8.46439   8.474663\n",
      "  8.479043  8.485247  8.5266   ]\n",
      " [0.        8.346272  8.407202  8.462828  8.497231  8.5208    8.597084\n",
      "  8.600385  8.605134  8.630593 ]]\n",
      "[[   0  798  879  223  981 1401 1458 1174  919   26]\n",
      " [   1  981 1524 1639 1949 1472 1162  923  840  300]\n",
      " [   2 1886  375 1351  518 1735 1551 1958  390 1695]\n",
      " [   3 1459  331  389  655 1943 1483 1723 1672 1859]\n",
      " [   4   13  715 1470  608  459  888  850 1080 1654]]\n",
      "False\n",
      "True\n",
      "[[0.        8.007045  8.313329  8.53525   8.560174  8.561642  8.6241665\n",
      "  8.628233  8.709977  8.77004  ]\n",
      " [0.        8.278089  8.355577  8.42606   8.462017  8.468869  8.487029\n",
      "  8.549965  8.562822  8.599199 ]\n",
      " [0.        8.152369  8.156568  8.223303  8.276015  8.376868  8.379269\n",
      "  8.406122  8.418619  8.443282 ]\n",
      " [0.        8.260519  8.336826  8.339299  8.402878  8.46439   8.474663\n",
      "  8.479043  8.485247  8.5266   ]\n",
      " [0.        8.346272  8.407202  8.462828  8.497231  8.5208    8.597084\n",
      "  8.600385  8.605134  8.630593 ]]\n",
      "[[   0  798  879  223  981 1401 1458 1174  919   26]\n",
      " [   1  981 1524 1639 1949 1472 1162  923  840  300]\n",
      " [   2 1886  375 1351  518 1735 1551 1958  390 1695]\n",
      " [   3 1459  331  389  655 1943 1483 1723 1672 1859]\n",
      " [   4   13  715 1470  608  459  888  850 1080 1654]]\n"
     ]
    }
   ],
   "source": [
    "\n",
    "\n",
    "# 倒排表快速索引\n",
    "nlist = 50  # 将数据库向量分割为多少了维诺空间\n",
    "k = 10\n",
    "quantizer = faiss.IndexFlatL2(d)  # 量化器\n",
    "# METRIC_L2计算L2距离, 或faiss.METRIC_INNER_PRODUCT计算内积\n",
    "index = faiss.IndexIVFFlat(quantizer, d, nlist, faiss.METRIC_L2)\n",
    "print(index.is_trained)\n",
    "#倒排表索引类型需要训练, 训练数据集应该与数据库数据集同分布\n",
    "index.train(data)\n",
    "print(index.is_trained)\n",
    "\n",
    "index.add(data)\n",
    "index.nprobe = 50  # 选择n个维诺空间进行索引,\n",
    "#dis, ind = index.search(query, k)\n",
    "dis, ind = index.search(query_self, k)\n",
    "print(dis)\n",
    "print(ind)"
   ]
  },
  {
   "cell_type": "code",
   "execution_count": 3,
   "metadata": {},
   "outputs": [
    {
     "name": "stdout",
     "output_type": "stream",
     "text": [
      "[[4.6277246  5.1453824  5.1764784  5.1985474  5.200544   5.201029\n",
      "  5.2306223  5.2327447  5.2368197  5.237051  ]\n",
      " [4.2167706  4.647105   4.8003736  4.8635883  4.871478   4.9131913\n",
      "  4.9194264  4.9296308  4.940721   4.945765  ]\n",
      " [4.0325227  4.7176094  4.7511168  4.795289   4.833613   4.8647084\n",
      "  4.8749743  4.8807297  4.881535   4.897663  ]\n",
      " [4.1453667  4.8391676  4.8694105  4.888366   4.92729    4.929869\n",
      "  4.9352455  4.936894   4.9594526  4.9716854 ]\n",
      " [0.18832636 4.7323246  4.820816   4.906128   4.913453   4.9232316\n",
      "  4.92673    4.9344196  4.938006   4.9416313 ]]\n",
      "[[   0  492 1701  467  797 1933  820  125 1302  819]\n",
      " [   1 1911 1518  911 1507   92 1230 1920 1940 1599]\n",
      " [   2 1594 1949  928 1464 1144 1336  259 1143  225]\n",
      " [   3 1310 1918  254 1015  567  731  926  302 1210]\n",
      " [   4 1263   32 1678  501  748 1063  513 1654 1844]]\n"
     ]
    },
    {
     "data": {
      "text/plain": [
       "'\\ndis, ind = index.search(query, k)  # 真实查询\\nprint(dis)\\nprint(ind)\\n'"
      ]
     },
     "execution_count": 3,
     "metadata": {},
     "output_type": "execute_result"
    }
   ],
   "source": [
    "# 乘积量化索引\n",
    "nlist = 50\n",
    "m = 8  # 列方向划分个数，必须能被d整除\n",
    "k = 10\n",
    "quantizer = faiss.IndexFlatL2(d)  \n",
    "# 8 表示每个子向量被编码为 8 bits\n",
    "index = faiss.IndexIVFPQ(quantizer, d, nlist, m, 8) \n",
    "index.train(data)\n",
    "index.add(data)\n",
    "index.nprobe = 50\n",
    "dis, ind = index.search(query_self, k)  # 查询自身\n",
    "print(dis)\n",
    "print(ind)\n",
    "\"\"\"\n",
    "dis, ind = index.search(query, k)  # 真实查询\n",
    "print(dis)\n",
    "print(ind)\n",
    "\"\"\""
   ]
  }
 ],
 "metadata": {
  "kernelspec": {
   "display_name": "Python 3 (ipykernel)",
   "language": "python",
   "name": "python3"
  },
  "language_info": {
   "codemirror_mode": {
    "name": "ipython",
    "version": 3
   },
   "file_extension": ".py",
   "mimetype": "text/x-python",
   "name": "python",
   "nbconvert_exporter": "python",
   "pygments_lexer": "ipython3",
   "version": "3.11.2"
  },
  "toc": {
   "base_numbering": 1,
   "nav_menu": {},
   "number_sections": false,
   "sideBar": true,
   "skip_h1_title": false,
   "title_cell": "Table of Contents",
   "title_sidebar": "Contents",
   "toc_cell": false,
   "toc_position": {},
   "toc_section_display": true,
   "toc_window_display": false
  }
 },
 "nbformat": 4,
 "nbformat_minor": 4
}
