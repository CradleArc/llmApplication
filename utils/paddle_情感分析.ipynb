{
 "cells": [
  {
   "cell_type": "markdown",
   "source": [
    "语句级情感分析\n",
    "整句情感分析功能当前支持二分类：正向和负向，调用示例如下："
   ],
   "metadata": {
    "collapsed": false
   }
  },
  {
   "cell_type": "code",
   "execution_count": null,
   "metadata": {
    "collapsed": true
   },
   "outputs": [],
   "source": [
    "from paddlenlp import Taskflow\n",
    "schema = ['情感倾向[正向，负向]']\n",
    "senta = Taskflow(\"sentiment_analysis\", model=\"uie-senta-base\", schema=schema,use_fast=True)\n",
    "print(senta('蛋糕味道不错，店家服务也很好'))"
   ]
  }
 ],
 "metadata": {
  "kernelspec": {
   "display_name": "Python 3",
   "language": "python",
   "name": "python3"
  },
  "language_info": {
   "codemirror_mode": {
    "name": "ipython",
    "version": 2
   },
   "file_extension": ".py",
   "mimetype": "text/x-python",
   "name": "python",
   "nbconvert_exporter": "python",
   "pygments_lexer": "ipython2",
   "version": "2.7.6"
  }
 },
 "nbformat": 4,
 "nbformat_minor": 0
}
