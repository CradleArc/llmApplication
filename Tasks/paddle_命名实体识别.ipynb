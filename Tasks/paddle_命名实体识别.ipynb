{
 "cells": [
  {
   "cell_type": "markdown",
   "source": [
    "PaddleNLP提供一键预测功能，无需训练，直接输入数据即可开放域抽取结果。这里以信息抽取-命名实体识别任务，UIE模型为例：\n",
    "\n",
    "为了实现更极致的模型部署性能，安装FastTokenizer后只需在AutoTokenizer API上打开 use_fast=True选项，即可调用C++实现的高性能分词算子，轻松获得超Python百余倍的文本处理加速"
   ],
   "metadata": {
    "collapsed": false
   }
  },
  {
   "cell_type": "code",
   "execution_count": null,
   "metadata": {
    "collapsed": true
   },
   "outputs": [],
   "source": [
    "from pprint import pprint\n",
    "from paddlenlp import Taskflow\n",
    "schema = ['博物馆', '街区'] # Define the schema for entity extraction\n",
    "ie = Taskflow('information_extraction', schema=schema, use_fast=True)\n",
    "pprint(ie(\"到殷墟博物馆借助微痕增强技术解读实体甲骨；在“长安十二时辰”主题街区沉浸式体验唐代市井生活；跟随茶农到五指山下的茶田体验采摘、制茶……随着科技手段被引入旅游场景、文化和旅游更紧密地融合，智慧旅游、研学旅游等业态和产品受到人们的青睐，能够更好满足人们对于品质化、个性化旅游以及“游有所学”的需要。\"))"
   ]
  },
  {
   "cell_type": "markdown",
   "source": [],
   "metadata": {
    "collapsed": false
   }
  },
  {
   "cell_type": "markdown",
   "source": [],
   "metadata": {
    "collapsed": false
   }
  }
 ],
 "metadata": {
  "kernelspec": {
   "display_name": "Python 3",
   "language": "python",
   "name": "python3"
  },
  "language_info": {
   "codemirror_mode": {
    "name": "ipython",
    "version": 2
   },
   "file_extension": ".py",
   "mimetype": "text/x-python",
   "name": "python",
   "nbconvert_exporter": "python",
   "pygments_lexer": "ipython2",
   "version": "2.7.6"
  }
 },
 "nbformat": 4,
 "nbformat_minor": 0
}
