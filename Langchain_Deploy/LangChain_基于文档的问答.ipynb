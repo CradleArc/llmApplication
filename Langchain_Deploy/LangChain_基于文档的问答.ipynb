{
 "cells": [
  {
   "cell_type": "markdown",
   "source": [
    "### 导入数据"
   ],
   "metadata": {
    "collapsed": false
   }
  },
  {
   "cell_type": "code",
   "execution_count": null,
   "metadata": {
    "collapsed": true
   },
   "outputs": [],
   "source": [
    "from langchain.chains import RetrievalQA  #检索QA链，在文档上进行检索\n",
    "from langchain.chat_models import ChatOpenAI  #openai模型\n",
    "from langchain.document_loaders import CSVLoader #文档加载器，采用csv格式存储\n",
    "from langchain.vectorstores import DocArrayInMemorySearch  #向量存储\n",
    "from IPython.display import display, Markdown #在jupyter显示信息的工具\n",
    "import pandas as pd\n",
    "\n",
    "file = '../data/OutdoorClothingCatalog_1000.csv'\n",
    "\n",
    "# 使用langchain文档加载器对数据进行导入\n",
    "loader = CSVLoader(file_path=file)\n",
    "\n",
    "# 使用pandas导入数据，用以查看\n",
    "data = pd.read_csv(file,usecols=[1, 2])\n",
    "data.head()"
   ]
  },
  {
   "cell_type": "markdown",
   "source": [
    "### 基本文档加载器创建向量存储"
   ],
   "metadata": {
    "collapsed": false
   }
  },
  {
   "cell_type": "code",
   "execution_count": null,
   "outputs": [],
   "source": [
    "#导入向量存储索引创建器\n",
    "from langchain.indexes import VectorstoreIndexCreator\n",
    "\n",
    "# 创建指定向量存储类, 创建完成后，从加载器中调用, 通过文档加载器列表加载\n",
    "index = VectorstoreIndexCreator(vectorstore_cls=DocArrayInMemorySearch).from_loaders([loader])"
   ],
   "metadata": {
    "collapsed": false
   }
  },
  {
   "cell_type": "markdown",
   "source": [
    "### 查询创建的向量存储"
   ],
   "metadata": {
    "collapsed": false
   }
  },
  {
   "cell_type": "code",
   "execution_count": null,
   "outputs": [],
   "source": [
    "query =\"请用markdown表格的方式列出所有具有防晒功能的衬衫，对每件衬衫描述进行总结\"\n",
    "\n",
    "#使用索引查询创建一个响应，并传入这个查询\n",
    "response = index.query(query)\n",
    "\n",
    "#查看查询返回的内容\n",
    "display(Markdown(response))"
   ],
   "metadata": {
    "collapsed": false
   }
  },
  {
   "cell_type": "markdown",
   "source": [
    "由于语言模型的上下文长度限制，直接处理长文档具有困难。为实现对长文档的问答，我们可以引入向量嵌入(Embeddings)和向量存储(Vector Store)等技术：\n",
    "\n",
    "首先，使用文本嵌入(Embeddings)算法对文档进行向量化，使语义相似的文本片段具有接近的向量表示。其次，将向量化的文档切分为小块，存入向量数据库，这个流程正是创建索引(index)的过程。向量数据库对各文档片段进行索引，支持快速检索。这样，当用户提出问题时，可以先将问题转换为向量，在数据库中快速找到语义最相关的文档片段。然后将这些文档片段与问题一起传递给语言模型，生成回答。\n",
    "\n",
    "通过嵌入向量化和索引技术，我们实现了对长文档的切片检索和问答。这种流程克服了语言模型的上下文限制，可以构建处理大规模文档的问答系统。"
   ],
   "metadata": {
    "collapsed": false
   }
  }
 ],
 "metadata": {
  "kernelspec": {
   "display_name": "Python 3",
   "language": "python",
   "name": "python3"
  },
  "language_info": {
   "codemirror_mode": {
    "name": "ipython",
    "version": 2
   },
   "file_extension": ".py",
   "mimetype": "text/x-python",
   "name": "python",
   "nbconvert_exporter": "python",
   "pygments_lexer": "ipython2",
   "version": "2.7.6"
  }
 },
 "nbformat": 4,
 "nbformat_minor": 0
}
