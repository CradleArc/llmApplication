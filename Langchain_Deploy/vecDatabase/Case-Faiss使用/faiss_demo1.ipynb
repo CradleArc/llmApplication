{
 "cells": [
  {
   "cell_type": "code",
   "execution_count": 1,
   "metadata": {},
   "outputs": [
    {
     "name": "stdout",
     "output_type": "stream",
     "text": [
      "(2000, 512)\n"
     ]
    },
    {
     "data": {
      "image/png": "[encoded data removed]",
      "text/plain": [
       "<Figure size 640x480 with 1 Axes>"
      ]
     },
     "metadata": {},
     "output_type": "display_data"
    },
    {
     "name": "stdout",
     "output_type": "stream",
     "text": [
      "True\n",
      "2000\n"
     ]
    }
   ],
   "source": [
    "import numpy as np \n",
    "import matplotlib.pyplot as plt\n",
    "%matplotlib inline\n",
    "# 512维，data包含2000个向量，每个向量符合正态分布\n",
    "d = 512          \n",
    "n_data = 2000   \n",
    "np.random.seed(0) \n",
    "data = []\n",
    "mu = 3\n",
    "sigma = 0.1\n",
    "for i in range(n_data):\n",
    "    data.append(np.random.normal(mu, sigma, d))\n",
    "data = np.array(data).astype('float32')\n",
    "# print(data[0])\n",
    "print(data.shape)\n",
    "# 查看第6个向量是不是符合正态分布\n",
    "import matplotlib.pyplot as plt \n",
    "plt.hist(data[5])\n",
    "plt.show()\n",
    "\n",
    "# 精确索引\n",
    "query = []\n",
    "n_query = 10\n",
    "mu = 3\n",
    "sigma = 0.1\n",
    "np.random.seed(12) \n",
    "query = []\n",
    "for i in range(n_query):\n",
    "    query.append(np.random.normal(mu, sigma, d))\n",
    "query = np.array(query).astype('float32')\n",
    "\n",
    "import faiss\n",
    "index = faiss.IndexFlatL2(d)  # 构建 IndexFlatL2\n",
    "print(index.is_trained)  # False时需要train\n",
    "index.add(data)  #添加数据\n",
    "print(index.ntotal)  #index中向量的个数"
   ]
  },
  {
   "cell_type": "code",
   "execution_count": 5,
   "metadata": {},
   "outputs": [
    {
     "name": "stdout",
     "output_type": "stream",
     "text": [
      "(1, 10)\n",
      "(1, 10)\n",
      "[[0.       8.346272 8.407202 8.462828 8.497231 8.5208   8.597084 8.600385\n",
      "  8.605134 8.630593]]\n",
      "[[   4   13  715 1470  608  459  888  850 1080 1654]]\n"
     ]
    }
   ],
   "source": [
    "#精确索引无需训练便可直接查询\n",
    "k = 10  # 返回结果个数\n",
    "query_self = data[4:5]  # 查询本身\n",
    "dis, ind = index.search(query_self, k)\n",
    "print(dis.shape) # 打印张量 (5, 10)\n",
    "print(ind.shape) # 打印张量 (5, 10)\n",
    "print(dis)  # 升序返回每个查询向量的距离\n",
    "print(ind)  # 升序返回每个查询向量\n"
   ]
  },
  {
   "cell_type": "code",
   "execution_count": 6,
   "metadata": {},
   "outputs": [
    {
     "data": {
      "text/plain": [
       "array([[2.8303869, 3.0730183, 2.8142517, 3.0382597, 2.9113095, 3.0878303,\n",
       "        3.0086453, 3.0247707, 2.8981721, 2.934543 , 3.0207217, 3.058357 ,\n",
       "        3.2929096, 3.022286 , 3.0976038, 2.8443067, 2.8670108, 2.9644506,\n",
       "        2.8802571, 3.14864  , 2.9589782, 3.1382182, 3.1486783, 3.004278 ,\n",
       "        3.05018  , 2.99439  , 3.0538437, 3.0483341, 2.9876351, 3.050497 ,\n",
       "        3.1723697, 3.0713017, 3.03258  , 3.012477 , 2.8987327, 2.8972702,\n",
       "        3.0323358, 2.863061 , 2.9233673, 3.1281512, 3.191423 , 2.8334043,\n",
       "        3.162665 , 2.978856 , 2.9984994, 2.988659 , 3.1080544, 2.8392324,\n",
       "        3.0456164, 2.905513 , 3.0570788, 3.1542797, 2.9999583, 3.0374155,\n",
       "        3.040955 , 2.9200406, 3.1511638, 3.170647 , 3.0701783, 3.0073285,\n",
       "        2.9538107, 2.937351 , 3.1710837, 3.1414416, 2.9936337, 2.842007 ,\n",
       "        2.7167988, 2.8916574, 2.986938 , 3.140069 , 2.9348345, 3.0504816,\n",
       "        3.1303182, 3.0128536, 2.9857552, 2.8691237, 2.8797524, 3.04161  ,\n",
       "        2.9799092, 3.012253 , 2.9952722, 3.0664144, 2.9215312, 2.9664419,\n",
       "        3.189618 , 2.9200213, 2.9718425, 2.9410613, 3.0444782, 3.1022391,\n",
       "        2.9501789, 2.9568586, 2.972102 , 3.0529833, 2.9260604, 2.962404 ,\n",
       "        2.7627807, 2.8618255, 2.9887557, 3.0897865, 3.0295076, 2.8901231,\n",
       "        2.8599744, 3.017468 , 2.8347197, 3.1065927, 3.0063896, 2.839268 ,\n",
       "        2.9034047, 2.927569 , 2.9226809, 2.8510067, 2.9125338, 2.9315598,\n",
       "        2.9288714, 3.1127956, 3.0104828, 2.9006743, 2.966538 , 2.9120443,\n",
       "        2.9699993, 3.0875509, 3.025227 , 3.2285602, 3.0375926, 2.9086406,\n",
       "        3.080974 , 3.1079931, 3.1094167, 2.890576 , 2.9852362, 3.113181 ,\n",
       "        2.831527 , 2.9500582, 2.8573062, 2.906743 , 2.8987544, 3.125057 ,\n",
       "        2.9765463, 2.9136643, 2.8964393, 3.0141668, 2.9988863, 3.1344075,\n",
       "        3.0500016, 2.85682  , 2.9371018, 3.1070073, 2.9378917, 3.1734571,\n",
       "        2.890171 , 3.0572612, 2.9138784, 2.9490404, 3.1098583, 2.9872932,\n",
       "        3.0813453, 3.047329 , 3.0753865, 2.9111812, 2.9778426, 3.0424252,\n",
       "        2.9150927, 3.16295  , 2.9222772, 2.9699996, 2.8993442, 2.785669 ,\n",
       "        3.1796918, 2.979566 , 2.9552085, 2.9801285, 3.1419864, 2.9034894,\n",
       "        3.0679567, 2.957621 , 2.940333 , 3.0567057, 3.098824 , 2.9486096,\n",
       "        2.923115 , 2.8830905, 3.1103504, 2.9424744, 2.8150868, 3.1409953,\n",
       "        2.863014 , 3.077946 , 3.018343 , 3.0287914, 2.9415624, 3.036559 ,\n",
       "        2.833222 , 3.0588038, 3.155701 , 3.0884027, 2.7980459, 2.9015791,\n",
       "        2.9812205, 3.0486937, 2.9893348, 2.9506786, 3.05953  , 3.1164153,\n",
       "        2.9767706, 3.072893 , 2.742095 , 2.906249 , 2.967874 , 2.9511433,\n",
       "        3.03328  , 3.101375 , 3.0506668, 2.9377775, 2.8477232, 3.0556965,\n",
       "        2.8161824, 3.0653038, 2.9811552, 2.8824165, 3.0287256, 2.9997125,\n",
       "        2.9963403, 2.9915776, 3.0419524, 3.0924435, 3.0496616, 3.1012132,\n",
       "        2.995586 , 3.161846 , 3.057111 , 2.9456306, 2.8906105, 3.0205796,\n",
       "        2.8693478, 2.9026625, 3.0239086, 2.9392114, 2.9066684, 2.9965525,\n",
       "        3.0072677, 2.9794166, 2.9622452, 3.0854642, 3.0342426, 2.9776573,\n",
       "        3.2464323, 3.0193832, 3.1132004, 2.943902 , 2.8637059, 2.9208243,\n",
       "        2.9731991, 2.950339 , 3.1336386, 2.9879959, 3.0461469, 2.9953518,\n",
       "        2.9566445, 3.0037997, 3.171405 , 2.9232051, 3.076699 , 2.8973992,\n",
       "        2.9540374, 3.0003583, 3.0326376, 3.1483128, 2.9949918, 2.9156384,\n",
       "        3.065004 , 2.963583 , 3.023868 , 2.9883778, 2.8056543, 3.05083  ,\n",
       "        3.0583367, 3.0926604, 3.1800463, 2.8804896, 3.0516508, 3.0409296,\n",
       "        2.9580917, 3.0397105, 3.0499647, 2.8781316, 3.0246222, 2.9082015,\n",
       "        2.9348145, 2.8225255, 2.952664 , 2.9796429, 3.0549858, 3.00009  ,\n",
       "        2.845771 , 3.0862148, 2.9881413, 3.048837 , 3.0965936, 3.1422606,\n",
       "        3.1961226, 2.9927762, 3.0311124, 2.892164 , 3.10616  , 2.8815112,\n",
       "        2.819475 , 3.0830386, 2.9478304, 3.0777607, 3.0408075, 2.8369997,\n",
       "        2.728032 , 2.8903399, 3.0016491, 2.8778224, 2.9347239, 2.854106 ,\n",
       "        3.0169878, 3.0090826, 2.9518607, 3.1397066, 3.1497715, 3.0565267,\n",
       "        2.8200228, 2.889531 , 3.040713 , 2.9371443, 2.9512908, 3.0898967,\n",
       "        3.0510874, 3.1314154, 2.9570792, 3.1375225, 2.944587 , 3.149949 ,\n",
       "        3.0105834, 2.913949 , 2.836878 , 2.9698527, 2.9743767, 3.085766 ,\n",
       "        2.988941 , 2.9567568, 3.1077037, 2.9775174, 2.942376 , 3.0574608,\n",
       "        2.9510171, 3.0658803, 2.9403083, 2.977704 , 3.0152178, 2.9625874,\n",
       "        2.9986548, 3.0815473, 3.0410602, 3.048097 , 2.936457 , 3.085283 ,\n",
       "        3.0669563, 3.100442 , 2.9273634, 2.9827542, 3.0633533, 2.9391184,\n",
       "        2.9773877, 3.1925805, 3.1951761, 3.123994 , 3.0938585, 2.8980749,\n",
       "        3.0512562, 2.9640884, 2.8941429, 2.9490993, 3.0115664, 2.9452643,\n",
       "        2.94492  , 3.079204 , 3.0144107, 3.0233457, 3.0111873, 2.9324298,\n",
       "        2.8629427, 3.0310564, 2.9492962, 2.7989218, 2.9607432, 2.8907783,\n",
       "        3.069865 , 3.0521624, 3.0496893, 2.9334958, 3.0731552, 3.031965 ,\n",
       "        2.9590147, 2.9546661, 3.0892708, 2.9526396, 3.0303657, 3.1033957,\n",
       "        3.1909342, 3.1663873, 3.0900822, 2.8494089, 2.9310951, 2.9451914,\n",
       "        3.165315 , 2.9300683, 3.0386167, 3.0100868, 2.9064872, 3.0381825,\n",
       "        3.0398295, 2.8744226, 3.1222878, 2.791349 , 2.9409242, 3.097197 ,\n",
       "        2.8806741, 3.0350266, 2.870364 , 2.9906976, 2.7686226, 2.9157429,\n",
       "        2.845708 , 2.9598236, 2.9584768, 2.9326336, 3.0797913, 2.911312 ,\n",
       "        3.0634387, 3.1629276, 3.0139065, 2.914233 , 2.875066 , 2.9290216,\n",
       "        3.0704644, 3.015559 , 3.0936794, 3.077033 , 3.014081 , 3.0473487,\n",
       "        3.1855247, 3.1415656, 2.9697254, 3.098968 , 3.0585852, 3.1136389,\n",
       "        3.0671616, 2.9025834, 2.8380315, 3.0572627, 3.1902618, 2.9224336,\n",
       "        2.981191 , 2.8964252, 3.117783 , 2.7694833, 2.773634 , 3.037502 ,\n",
       "        2.9917657, 2.9520378, 2.9698906, 3.0536988, 2.9586196, 2.8903074,\n",
       "        2.9072638, 3.0888338, 2.9475257, 2.8614721, 3.010218 , 3.0504994,\n",
       "        3.1328962, 3.0217903, 2.9340289, 3.0474007, 3.0727174, 2.9961095,\n",
       "        2.9955401, 3.0260134, 2.9930143, 3.0250113, 2.8978086, 2.8849561,\n",
       "        2.9163888, 3.0642211, 3.0258799, 3.104024 , 2.9813309, 2.8856359,\n",
       "        3.1144555, 2.9981234, 3.1283455, 3.0597947, 3.2188618, 2.9780228,\n",
       "        3.0900724, 3.0891364, 2.9444873, 2.9827518, 2.8538263, 2.8451204,\n",
       "        3.012657 , 3.0793006, 3.0638025, 3.0340025, 3.0863018, 2.9410303,\n",
       "        2.9727466, 3.0737522]], dtype=float32)"
      ]
     },
     "execution_count": 6,
     "metadata": {},
     "output_type": "execute_result"
    }
   ],
   "source": [
    "query_self"
   ]
  },
  {
   "cell_type": "code",
   "execution_count": 3,
   "metadata": {},
   "outputs": [
    {
     "data": {
      "text/plain": [
       "array([[3.1764052, 3.0400157, 3.0978737, ..., 3.1301427, 3.089526 ,\n",
       "        3.1374965],\n",
       "       [2.8667789, 2.8031375, 2.9339943, ..., 3.0701041, 2.9582522,\n",
       "        2.8902504],\n",
       "       [3.1712306, 2.9207885, 2.8954475, ..., 3.028377 , 2.9717803,\n",
       "        2.8841796],\n",
       "       [2.838064 , 2.948896 , 3.174063 , ..., 3.010016 , 2.9524825,\n",
       "        3.1272955],\n",
       "       [2.8303869, 3.0730183, 2.8142517, ..., 2.9410303, 2.9727466,\n",
       "        3.0737522]], dtype=float32)"
      ]
     },
     "execution_count": 3,
     "metadata": {},
     "output_type": "execute_result"
    }
   ],
   "source": [
    "query_self"
   ]
  },
  {
   "cell_type": "code",
   "execution_count": 7,
   "metadata": {},
   "outputs": [
    {
     "name": "stdout",
     "output_type": "stream",
     "text": [
      "False\n",
      "True\n",
      "[[0.       8.346272 8.407202 8.462828 8.497231 8.5208   8.597084 8.600385\n",
      "  8.605134 8.630593]]\n",
      "[[   4   13  715 1470  608  459  888  850 1080 1654]]\n"
     ]
    }
   ],
   "source": [
    "# 倒排表快速索引\n",
    "nlist = 50  # 将数据库向量分割为多少了维诺空间\n",
    "k = 10\n",
    "quantizer = faiss.IndexFlatL2(d)  # 量化器\n",
    "# METRIC_L2计算L2距离, 或faiss.METRIC_INNER_PRODUCT计算内积\n",
    "index = faiss.IndexIVFFlat(quantizer, d, nlist, faiss.METRIC_L2)\n",
    "print(index.is_trained)\n",
    "#倒排表索引类型需要训练, 训练数据集应该与数据库数据集同分布\n",
    "index.train(data)\n",
    "print(index.is_trained)\n",
    "\n",
    "index.add(data)\n",
    "index.nprobe = 50  # 选择n个维诺空间进行索引,\n",
    "#dis, ind = index.search(query, k)\n",
    "dis, ind = index.search(query_self, k)\n",
    "print(dis)\n",
    "print(ind)\n"
   ]
  },
  {
   "cell_type": "code",
   "execution_count": 3,
   "metadata": {},
   "outputs": [
    {
     "name": "stdout",
     "output_type": "stream",
     "text": [
      "[[4.6277246  5.1453824  5.1764784  5.1985474  5.200544   5.201029\n",
      "  5.2306223  5.2327447  5.2368197  5.237051  ]\n",
      " [4.2167706  4.647105   4.8003736  4.8635883  4.871478   4.9131913\n",
      "  4.9194264  4.9296308  4.940721   4.945765  ]\n",
      " [4.0325227  4.7176094  4.7511168  4.795289   4.833613   4.8647084\n",
      "  4.8749743  4.8807297  4.881535   4.897663  ]\n",
      " [4.1453667  4.8391676  4.8694105  4.888366   4.92729    4.929869\n",
      "  4.9352455  4.936894   4.9594526  4.9716854 ]\n",
      " [0.18832636 4.7323246  4.820816   4.906128   4.913453   4.9232316\n",
      "  4.92673    4.9344196  4.938006   4.9416313 ]]\n",
      "[[   0  492 1701  467  797 1933  820  125 1302  819]\n",
      " [   1 1911 1518  911 1507   92 1230 1920 1940 1599]\n",
      " [   2 1594 1949  928 1464 1144 1336  259 1143  225]\n",
      " [   3 1310 1918  254 1015  567  731  926  302 1210]\n",
      " [   4 1263   32 1678  501  748 1063  513 1654 1844]]\n"
     ]
    },
    {
     "data": {
      "text/plain": [
       "'\\ndis, ind = index.search(query, k)  # 真实查询\\nprint(dis)\\nprint(ind)\\n'"
      ]
     },
     "execution_count": 3,
     "metadata": {},
     "output_type": "execute_result"
    }
   ],
   "source": [
    "# 乘积量化索引\n",
    "nlist = 50\n",
    "m = 8  # 列方向划分个数，必须能被d整除\n",
    "k = 10\n",
    "quantizer = faiss.IndexFlatL2(d)  \n",
    "# 8 表示每个子向量被编码为 8 bits\n",
    "index = faiss.IndexIVFPQ(quantizer, d, nlist, m, 8) \n",
    "index.train(data)\n",
    "index.add(data)\n",
    "index.nprobe = 50\n",
    "dis, ind = index.search(query_self, k)  # 查询自身\n",
    "print(dis)\n",
    "print(ind)\n",
    "\"\"\"\n",
    "dis, ind = index.search(query, k)  # 真实查询\n",
    "print(dis)\n",
    "print(ind)\n",
    "\"\"\""
   ]
  }
 ],
 "metadata": {
  "kernelspec": {
   "display_name": "Python 3 (ipykernel)",
   "language": "python",
   "name": "python3"
  },
  "language_info": {
   "codemirror_mode": {
    "name": "ipython",
    "version": 3
   },
   "file_extension": ".py",
   "mimetype": "text/x-python",
   "name": "python",
   "nbconvert_exporter": "python",
   "pygments_lexer": "ipython3",
   "version": "3.11.2"
  },
  "toc": {
   "base_numbering": 1,
   "nav_menu": {},
   "number_sections": false,
   "sideBar": true,
   "skip_h1_title": false,
   "title_cell": "Table of Contents",
   "title_sidebar": "Contents",
   "toc_cell": false,
   "toc_position": {},
   "toc_section_display": true,
   "toc_window_display": false
  }
 },
 "nbformat": 4,
 "nbformat_minor": 4
}
