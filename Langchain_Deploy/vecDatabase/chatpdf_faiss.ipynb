{
  "nbformat": 4,
  "nbformat_minor": 0,
  "metadata": {
    "colab": {
      "provenance": [],
      "machine_shape": "hm",
      "gpuType": "A100"
    },
    "kernelspec": {
      "name": "python3",
      "display_name": "Python 3"
    },
    "language_info": {
      "name": "python"
    },
    "accelerator": "GPU"
  },
  "cells": [
    {
      "cell_type": "code",
      "source": [
        "# 加载Google云硬盘\n",
        "from google.colab import drive\n",
        "drive.mount('/content/drive')"
      ],
      "metadata": {
        "colab": {
          "base_uri": "https://localhost:8080/"
        },
        "id": "QX0plgGxT-yf",
        "outputId": "a291b00f-42a0-4f37-8648-476e71f2a3f5"
      },
      "execution_count": 6,
      "outputs": [
        {
          "output_type": "stream",
          "name": "stdout",
          "text": [
            "Mounted at /content/drive\n"
          ]
        }
      ]
    },
    {
      "cell_type": "code",
      "source": [
        "!pip install langchain\n",
        "!pip install pypdf\n",
        "!pip install InstructorEmbedding\n",
        "!pip install sentence_transformers\n",
        "!pip install faiss-gpu"
      ],
      "metadata": {
        "colab": {
          "base_uri": "https://localhost:8080/"
        },
        "id": "PouWxWCOUSi9",
        "outputId": "79eeea6d-de56-4101-d3f8-add8d3c1af7a"
      },
      "execution_count": 2,
      "outputs": [
        {
          "output_type": "stream",
          "name": "stdout",
          "text": [
            "Looking in indexes: https://pypi.org/simple, https://us-python.pkg.dev/colab-wheels/public/simple/\n",
            "Collecting langchain\n",
            "  Downloading langchain-0.0.200-py3-none-any.whl (1.0 MB)\n",
            "\u001b[2K     \u001b[90m━━━━━━━━━━━━━━━━━━━━━━━━━━━━━━━━━━━━━━━━\u001b[0m \u001b[32m1.0/1.0 MB\u001b[0m \u001b[31m39.8 MB/s\u001b[0m eta \u001b[36m0:00:00\u001b[0m\n",
            "\u001b[?25hRequirement already satisfied: PyYAML>=5.4.1 in /usr/local/lib/python3.10/dist-packages (from langchain) (6.0)\n",
            "Requirement already satisfied: SQLAlchemy<3,>=1.4 in /usr/local/lib/python3.10/dist-packages (from langchain) (2.0.10)\n",
            "Collecting aiohttp<4.0.0,>=3.8.3 (from langchain)\n",
            "  Downloading aiohttp-3.8.4-cp310-cp310-manylinux_2_17_x86_64.manylinux2014_x86_64.whl (1.0 MB)\n",
            "\u001b[2K     \u001b[90m━━━━━━━━━━━━━━━━━━━━━━━━━━━━━━━━━━━━━━━━\u001b[0m \u001b[32m1.0/1.0 MB\u001b[0m \u001b[31m55.4 MB/s\u001b[0m eta \u001b[36m0:00:00\u001b[0m\n",
            "\u001b[?25hCollecting async-timeout<5.0.0,>=4.0.0 (from langchain)\n",
            "  Downloading async_timeout-4.0.2-py3-none-any.whl (5.8 kB)\n",
            "Collecting dataclasses-json<0.6.0,>=0.5.7 (from langchain)\n",
            "  Downloading dataclasses_json-0.5.8-py3-none-any.whl (26 kB)\n",
            "Collecting langchainplus-sdk>=0.0.9 (from langchain)\n",
            "  Downloading langchainplus_sdk-0.0.10-py3-none-any.whl (21 kB)\n",
            "Requirement already satisfied: numexpr<3.0.0,>=2.8.4 in /usr/local/lib/python3.10/dist-packages (from langchain) (2.8.4)\n",
            "Requirement already satisfied: numpy<2,>=1 in /usr/local/lib/python3.10/dist-packages (from langchain) (1.22.4)\n",
            "Collecting openapi-schema-pydantic<2.0,>=1.2 (from langchain)\n",
            "  Downloading openapi_schema_pydantic-1.2.4-py3-none-any.whl (90 kB)\n",
            "\u001b[2K     \u001b[90m━━━━━━━━━━━━━━━━━━━━━━━━━━━━━━━━━━━━━━━━\u001b[0m \u001b[32m90.0/90.0 kB\u001b[0m \u001b[31m11.5 MB/s\u001b[0m eta \u001b[36m0:00:00\u001b[0m\n",
            "\u001b[?25hRequirement already satisfied: pydantic<2,>=1 in /usr/local/lib/python3.10/dist-packages (from langchain) (1.10.7)\n",
            "Requirement already satisfied: requests<3,>=2 in /usr/local/lib/python3.10/dist-packages (from langchain) (2.27.1)\n",
            "Requirement already satisfied: tenacity<9.0.0,>=8.1.0 in /usr/local/lib/python3.10/dist-packages (from langchain) (8.2.2)\n",
            "Requirement already satisfied: attrs>=17.3.0 in /usr/local/lib/python3.10/dist-packages (from aiohttp<4.0.0,>=3.8.3->langchain) (23.1.0)\n",
            "Requirement already satisfied: charset-normalizer<4.0,>=2.0 in /usr/local/lib/python3.10/dist-packages (from aiohttp<4.0.0,>=3.8.3->langchain) (2.0.12)\n",
            "Collecting multidict<7.0,>=4.5 (from aiohttp<4.0.0,>=3.8.3->langchain)\n",
            "  Downloading multidict-6.0.4-cp310-cp310-manylinux_2_17_x86_64.manylinux2014_x86_64.whl (114 kB)\n",
            "\u001b[2K     \u001b[90m━━━━━━━━━━━━━━━━━━━━━━━━━━━━━━━━━━━━━━\u001b[0m \u001b[32m114.5/114.5 kB\u001b[0m \u001b[31m15.4 MB/s\u001b[0m eta \u001b[36m0:00:00\u001b[0m\n",
            "\u001b[?25hCollecting yarl<2.0,>=1.0 (from aiohttp<4.0.0,>=3.8.3->langchain)\n",
            "  Downloading yarl-1.9.2-cp310-cp310-manylinux_2_17_x86_64.manylinux2014_x86_64.whl (268 kB)\n",
            "\u001b[2K     \u001b[90m━━━━━━━━━━━━━━━━━━━━━━━━━━━━━━━━━━━━━━\u001b[0m \u001b[32m268.8/268.8 kB\u001b[0m \u001b[31m37.5 MB/s\u001b[0m eta \u001b[36m0:00:00\u001b[0m\n",
            "\u001b[?25hCollecting frozenlist>=1.1.1 (from aiohttp<4.0.0,>=3.8.3->langchain)\n",
            "  Downloading frozenlist-1.3.3-cp310-cp310-manylinux_2_5_x86_64.manylinux1_x86_64.manylinux_2_17_x86_64.manylinux2014_x86_64.whl (149 kB)\n",
            "\u001b[2K     \u001b[90m━━━━━━━━━━━━━━━━━━━━━━━━━━━━━━━━━━━━━━\u001b[0m \u001b[32m149.6/149.6 kB\u001b[0m \u001b[31m21.2 MB/s\u001b[0m eta \u001b[36m0:00:00\u001b[0m\n",
            "\u001b[?25hCollecting aiosignal>=1.1.2 (from aiohttp<4.0.0,>=3.8.3->langchain)\n",
            "  Downloading aiosignal-1.3.1-py3-none-any.whl (7.6 kB)\n",
            "Collecting marshmallow<4.0.0,>=3.3.0 (from dataclasses-json<0.6.0,>=0.5.7->langchain)\n",
            "  Downloading marshmallow-3.19.0-py3-none-any.whl (49 kB)\n",
            "\u001b[2K     \u001b[90m━━━━━━━━━━━━━━━━━━━━━━━━━━━━━━━━━━━━━━━━\u001b[0m \u001b[32m49.1/49.1 kB\u001b[0m \u001b[31m7.7 MB/s\u001b[0m eta \u001b[36m0:00:00\u001b[0m\n",
            "\u001b[?25hCollecting marshmallow-enum<2.0.0,>=1.5.1 (from dataclasses-json<0.6.0,>=0.5.7->langchain)\n",
            "  Downloading marshmallow_enum-1.5.1-py2.py3-none-any.whl (4.2 kB)\n",
            "Collecting typing-inspect>=0.4.0 (from dataclasses-json<0.6.0,>=0.5.7->langchain)\n",
            "  Downloading typing_inspect-0.9.0-py3-none-any.whl (8.8 kB)\n",
            "Requirement already satisfied: typing-extensions>=4.2.0 in /usr/local/lib/python3.10/dist-packages (from pydantic<2,>=1->langchain) (4.5.0)\n",
            "Requirement already satisfied: urllib3<1.27,>=1.21.1 in /usr/local/lib/python3.10/dist-packages (from requests<3,>=2->langchain) (1.26.15)\n",
            "Requirement already satisfied: certifi>=2017.4.17 in /usr/local/lib/python3.10/dist-packages (from requests<3,>=2->langchain) (2022.12.7)\n",
            "Requirement already satisfied: idna<4,>=2.5 in /usr/local/lib/python3.10/dist-packages (from requests<3,>=2->langchain) (3.4)\n",
            "Requirement already satisfied: greenlet!=0.4.17 in /usr/local/lib/python3.10/dist-packages (from SQLAlchemy<3,>=1.4->langchain) (2.0.2)\n",
            "Requirement already satisfied: packaging>=17.0 in /usr/local/lib/python3.10/dist-packages (from marshmallow<4.0.0,>=3.3.0->dataclasses-json<0.6.0,>=0.5.7->langchain) (23.1)\n",
            "Collecting mypy-extensions>=0.3.0 (from typing-inspect>=0.4.0->dataclasses-json<0.6.0,>=0.5.7->langchain)\n",
            "  Downloading mypy_extensions-1.0.0-py3-none-any.whl (4.7 kB)\n",
            "Installing collected packages: mypy-extensions, multidict, marshmallow, frozenlist, async-timeout, yarl, typing-inspect, openapi-schema-pydantic, marshmallow-enum, langchainplus-sdk, aiosignal, dataclasses-json, aiohttp, langchain\n",
            "Successfully installed aiohttp-3.8.4 aiosignal-1.3.1 async-timeout-4.0.2 dataclasses-json-0.5.8 frozenlist-1.3.3 langchain-0.0.200 langchainplus-sdk-0.0.10 marshmallow-3.19.0 marshmallow-enum-1.5.1 multidict-6.0.4 mypy-extensions-1.0.0 openapi-schema-pydantic-1.2.4 typing-inspect-0.9.0 yarl-1.9.2\n",
            "Looking in indexes: https://pypi.org/simple, https://us-python.pkg.dev/colab-wheels/public/simple/\n",
            "Collecting pypdf\n",
            "  Downloading pypdf-3.9.1-py3-none-any.whl (249 kB)\n",
            "\u001b[2K     \u001b[90m━━━━━━━━━━━━━━━━━━━━━━━━━━━━━━━━━━━━━━\u001b[0m \u001b[32m249.3/249.3 kB\u001b[0m \u001b[31m12.4 MB/s\u001b[0m eta \u001b[36m0:00:00\u001b[0m\n",
            "\u001b[?25hInstalling collected packages: pypdf\n",
            "Successfully installed pypdf-3.9.1\n",
            "Looking in indexes: https://pypi.org/simple, https://us-python.pkg.dev/colab-wheels/public/simple/\n",
            "Collecting InstructorEmbedding\n",
            "  Downloading InstructorEmbedding-1.0.1-py2.py3-none-any.whl (19 kB)\n",
            "Installing collected packages: InstructorEmbedding\n",
            "Successfully installed InstructorEmbedding-1.0.1\n",
            "Looking in indexes: https://pypi.org/simple, https://us-python.pkg.dev/colab-wheels/public/simple/\n",
            "Collecting sentence_transformers\n",
            "  Downloading sentence-transformers-2.2.2.tar.gz (85 kB)\n",
            "\u001b[2K     \u001b[90m━━━━━━━━━━━━━━━━━━━━━━━━━━━━━━━━━━━━━━━━\u001b[0m \u001b[32m86.0/86.0 kB\u001b[0m \u001b[31m9.7 MB/s\u001b[0m eta \u001b[36m0:00:00\u001b[0m\n",
            "\u001b[?25h  Preparing metadata (setup.py) ... \u001b[?25l\u001b[?25hdone\n",
            "Collecting transformers<5.0.0,>=4.6.0 (from sentence_transformers)\n",
            "  Downloading transformers-4.30.2-py3-none-any.whl (7.2 MB)\n",
            "\u001b[2K     \u001b[90m━━━━━━━━━━━━━━━━━━━━━━━━━━━━━━━━━━━━━━━━\u001b[0m \u001b[32m7.2/7.2 MB\u001b[0m \u001b[31m117.7 MB/s\u001b[0m eta \u001b[36m0:00:00\u001b[0m\n",
            "\u001b[?25hRequirement already satisfied: tqdm in /usr/local/lib/python3.10/dist-packages (from sentence_transformers) (4.65.0)\n",
            "Requirement already satisfied: torch>=1.6.0 in /usr/local/lib/python3.10/dist-packages (from sentence_transformers) (2.0.1+cu118)\n",
            "Requirement already satisfied: torchvision in /usr/local/lib/python3.10/dist-packages (from sentence_transformers) (0.15.2+cu118)\n",
            "Requirement already satisfied: numpy in /usr/local/lib/python3.10/dist-packages (from sentence_transformers) (1.22.4)\n",
            "Requirement already satisfied: scikit-learn in /usr/local/lib/python3.10/dist-packages (from sentence_transformers) (1.2.2)\n",
            "Requirement already satisfied: scipy in /usr/local/lib/python3.10/dist-packages (from sentence_transformers) (1.10.1)\n",
            "Requirement already satisfied: nltk in /usr/local/lib/python3.10/dist-packages (from sentence_transformers) (3.8.1)\n",
            "Collecting sentencepiece (from sentence_transformers)\n",
            "  Downloading sentencepiece-0.1.99-cp310-cp310-manylinux_2_17_x86_64.manylinux2014_x86_64.whl (1.3 MB)\n",
            "\u001b[2K     \u001b[90m━━━━━━━━━━━━━━━━━━━━━━━━━━━━━━━━━━━━━━━━\u001b[0m \u001b[32m1.3/1.3 MB\u001b[0m \u001b[31m86.0 MB/s\u001b[0m eta \u001b[36m0:00:00\u001b[0m\n",
            "\u001b[?25hCollecting huggingface-hub>=0.4.0 (from sentence_transformers)\n",
            "  Downloading huggingface_hub-0.15.1-py3-none-any.whl (236 kB)\n",
            "\u001b[2K     \u001b[90m━━━━━━━━━━━━━━━━━━━━━━━━━━━━━━━━━━━━━━\u001b[0m \u001b[32m236.8/236.8 kB\u001b[0m \u001b[31m32.5 MB/s\u001b[0m eta \u001b[36m0:00:00\u001b[0m\n",
            "\u001b[?25hRequirement already satisfied: filelock in /usr/local/lib/python3.10/dist-packages (from huggingface-hub>=0.4.0->sentence_transformers) (3.12.0)\n",
            "Requirement already satisfied: fsspec in /usr/local/lib/python3.10/dist-packages (from huggingface-hub>=0.4.0->sentence_transformers) (2023.4.0)\n",
            "Requirement already satisfied: requests in /usr/local/lib/python3.10/dist-packages (from huggingface-hub>=0.4.0->sentence_transformers) (2.27.1)\n",
            "Requirement already satisfied: pyyaml>=5.1 in /usr/local/lib/python3.10/dist-packages (from huggingface-hub>=0.4.0->sentence_transformers) (6.0)\n",
            "Requirement already satisfied: typing-extensions>=3.7.4.3 in /usr/local/lib/python3.10/dist-packages (from huggingface-hub>=0.4.0->sentence_transformers) (4.5.0)\n",
            "Requirement already satisfied: packaging>=20.9 in /usr/local/lib/python3.10/dist-packages (from huggingface-hub>=0.4.0->sentence_transformers) (23.1)\n",
            "Requirement already satisfied: sympy in /usr/local/lib/python3.10/dist-packages (from torch>=1.6.0->sentence_transformers) (1.11.1)\n",
            "Requirement already satisfied: networkx in /usr/local/lib/python3.10/dist-packages (from torch>=1.6.0->sentence_transformers) (3.1)\n",
            "Requirement already satisfied: jinja2 in /usr/local/lib/python3.10/dist-packages (from torch>=1.6.0->sentence_transformers) (3.1.2)\n",
            "Requirement already satisfied: triton==2.0.0 in /usr/local/lib/python3.10/dist-packages (from torch>=1.6.0->sentence_transformers) (2.0.0)\n",
            "Requirement already satisfied: cmake in /usr/local/lib/python3.10/dist-packages (from triton==2.0.0->torch>=1.6.0->sentence_transformers) (3.25.2)\n",
            "Requirement already satisfied: lit in /usr/local/lib/python3.10/dist-packages (from triton==2.0.0->torch>=1.6.0->sentence_transformers) (16.0.5)\n",
            "Requirement already satisfied: regex!=2019.12.17 in /usr/local/lib/python3.10/dist-packages (from transformers<5.0.0,>=4.6.0->sentence_transformers) (2022.10.31)\n",
            "Collecting tokenizers!=0.11.3,<0.14,>=0.11.1 (from transformers<5.0.0,>=4.6.0->sentence_transformers)\n",
            "  Downloading tokenizers-0.13.3-cp310-cp310-manylinux_2_17_x86_64.manylinux2014_x86_64.whl (7.8 MB)\n",
            "\u001b[2K     \u001b[90m━━━━━━━━━━━━━━━━━━━━━━━━━━━━━━━━━━━━━━━━\u001b[0m \u001b[32m7.8/7.8 MB\u001b[0m \u001b[31m123.0 MB/s\u001b[0m eta \u001b[36m0:00:00\u001b[0m\n",
            "\u001b[?25hCollecting safetensors>=0.3.1 (from transformers<5.0.0,>=4.6.0->sentence_transformers)\n",
            "  Downloading safetensors-0.3.1-cp310-cp310-manylinux_2_17_x86_64.manylinux2014_x86_64.whl (1.3 MB)\n",
            "\u001b[2K     \u001b[90m━━━━━━━━━━━━━━━━━━━━━━━━━━━━━━━━━━━━━━━━\u001b[0m \u001b[32m1.3/1.3 MB\u001b[0m \u001b[31m84.7 MB/s\u001b[0m eta \u001b[36m0:00:00\u001b[0m\n",
            "\u001b[?25hRequirement already satisfied: click in /usr/local/lib/python3.10/dist-packages (from nltk->sentence_transformers) (8.1.3)\n",
            "Requirement already satisfied: joblib in /usr/local/lib/python3.10/dist-packages (from nltk->sentence_transformers) (1.2.0)\n",
            "Requirement already satisfied: threadpoolctl>=2.0.0 in /usr/local/lib/python3.10/dist-packages (from scikit-learn->sentence_transformers) (3.1.0)\n",
            "Requirement already satisfied: pillow!=8.3.*,>=5.3.0 in /usr/local/lib/python3.10/dist-packages (from torchvision->sentence_transformers) (8.4.0)\n",
            "Requirement already satisfied: MarkupSafe>=2.0 in /usr/local/lib/python3.10/dist-packages (from jinja2->torch>=1.6.0->sentence_transformers) (2.1.2)\n",
            "Requirement already satisfied: urllib3<1.27,>=1.21.1 in /usr/local/lib/python3.10/dist-packages (from requests->huggingface-hub>=0.4.0->sentence_transformers) (1.26.15)\n",
            "Requirement already satisfied: certifi>=2017.4.17 in /usr/local/lib/python3.10/dist-packages (from requests->huggingface-hub>=0.4.0->sentence_transformers) (2022.12.7)\n",
            "Requirement already satisfied: charset-normalizer~=2.0.0 in /usr/local/lib/python3.10/dist-packages (from requests->huggingface-hub>=0.4.0->sentence_transformers) (2.0.12)\n",
            "Requirement already satisfied: idna<4,>=2.5 in /usr/local/lib/python3.10/dist-packages (from requests->huggingface-hub>=0.4.0->sentence_transformers) (3.4)\n",
            "Requirement already satisfied: mpmath>=0.19 in /usr/local/lib/python3.10/dist-packages (from sympy->torch>=1.6.0->sentence_transformers) (1.3.0)\n",
            "Building wheels for collected packages: sentence_transformers\n",
            "  Building wheel for sentence_transformers (setup.py) ... \u001b[?25l\u001b[?25hdone\n",
            "  Created wheel for sentence_transformers: filename=sentence_transformers-2.2.2-py3-none-any.whl size=125926 sha256=f577e0ed427a106c317a58bbb8a75af0fbd0bc6e6ca260534fd86e29422161e9\n",
            "  Stored in directory: /root/.cache/pip/wheels/62/f2/10/1e606fd5f02395388f74e7462910fe851042f97238cbbd902f\n",
            "Successfully built sentence_transformers\n",
            "Installing collected packages: tokenizers, sentencepiece, safetensors, huggingface-hub, transformers, sentence_transformers\n",
            "Successfully installed huggingface-hub-0.15.1 safetensors-0.3.1 sentence_transformers-2.2.2 sentencepiece-0.1.99 tokenizers-0.13.3 transformers-4.30.2\n",
            "Looking in indexes: https://pypi.org/simple, https://us-python.pkg.dev/colab-wheels/public/simple/\n",
            "Collecting faiss-gpu\n",
            "  Downloading faiss_gpu-1.7.2-cp310-cp310-manylinux_2_17_x86_64.manylinux2014_x86_64.whl (85.5 MB)\n",
            "\u001b[2K     \u001b[90m━━━━━━━━━━━━━━━━━━━━━━━━━━━━━━━━━━━━━━━━\u001b[0m \u001b[32m85.5/85.5 MB\u001b[0m \u001b[31m20.8 MB/s\u001b[0m eta \u001b[36m0:00:00\u001b[0m\n",
            "\u001b[?25hInstalling collected packages: faiss-gpu\n",
            "Successfully installed faiss-gpu-1.7.2\n"
          ]
        }
      ]
    },
    {
      "cell_type": "code",
      "execution_count": 7,
      "metadata": {
        "colab": {
          "base_uri": "https://localhost:8080/"
        },
        "id": "oAmKBryxT59w",
        "outputId": "a02bf77d-f80f-487d-e1dc-7b3d6d22bf70"
      },
      "outputs": [
        {
          "output_type": "stream",
          "name": "stdout",
          "text": [
            "[Document(page_content='百度文库  - 好好学习，天天向上  \\n-1 上海浦东发展银行西安分行  \\n个金客户经理管理考核暂行办法  \\n \\n \\n第一章  总   则 \\n第一条   为保证我分行个金客户经理制的顺利实施，有效调动个\\n金客户经理的积极性，促进个金业务快速、稳定地发展，根据总行《上\\n海浦东发展银行个人金融营销体系建设方案（试行）》要求，特制定\\n《上海浦东发展银行西安分行个金客户经理管理考核暂行办法（试\\n行）》（以下简称本办法）。  \\n第二条   个金客户经理系指各支行（营业部）从事个人金融产品\\n营销与市场开拓，为我行个人客户提供综合银行服务的我行市场人\\n员。 \\n第三条   考核内容分为二大类， 即个人业绩考核、 工作质量考核。\\n个人业绩包括个人资产业务、负债业务、卡业务。工作质量指个人业\\n务的资产质量。  \\n第四条   为规范激励规则，客户经理的技术职务和薪资实行每年\\n考核浮动。客户经理的奖金实行每季度考核浮动，即客户经理按其考\\n核内容得分与行员等级结合，享受对应的行员等级待遇。  \\n ', metadata={'source': '/content/drive/MyDrive/PDFs/浦发上海浦东发展银行西安分行个金客户经理考核办法.pdf', 'page': 0}), Document(page_content='百度文库  - 好好学习，天天向上  \\n-2 第二章  职位设置与职责  \\n第五条   个金客户经理职位设置为：客户经理助理、客户经理、\\n高级客户经理、资深客户经理。  \\n第六条   个金客户经理的基本职责：  \\n（一）   客户开发。研究客户信息、联系与选择客户、与客户建\\n立相互依存、相互支持的业务往来关系，扩大业务资源，创造良好业\\n绩； \\n（二）业务创新与产品营销。把握市场竞争变化方向，开展市场\\n与客户需 求的调研，对业务产品及服务进行创新；设计客户需求的产\\n品组合、制订和实施市场营销方案；  \\n（三）客户服务。负责我行各类表内外授信业务及中间业务的受\\n理和运作，进行综合性、整体性的客户服务；  \\n（四）防范风险，提高收益。提升风险防范意识及能力，提高经\\n营产品质量；  \\n（五）培养人材。在提高自身综合素质的同时，发扬团队精神，\\n培养后备业务骨干。  \\n ', metadata={'source': '/content/drive/MyDrive/PDFs/浦发上海浦东发展银行西安分行个金客户经理考核办法.pdf', 'page': 1}), Document(page_content='百度文库  - 好好学习，天天向上  \\n-3 第三章  基础素质要求  \\n第七条   个金客户经理准入条件：  \\n（一）工作经历：须具备大专以上学历，至少二年以上银行工作\\n经验。  \\n（二）工作能力：熟悉我行的各项业务，了解市场情况，熟悉各\\n类客户的金融需求，熟悉个人理财工具，有一定的业务管理和客户管\\n理能力。  \\n（三）工作业绩：个金客户经理均应达到相应等级的准入标准。\\n该标准可根据全行整体情况由考核部门进行调整。  \\n（四）专业培训：个金客户经理应参加有关部门组织的专业培训\\n并通过业务考试。  \\n（五）符合分行人事管理和专业管理的要求。  \\n第四章  个人业绩考核标准  \\n第八条   个金客户经理个人业绩以储蓄季日均、季有效净增发卡\\n量、季净增个贷余额 三项业务为主要考核指标，实行季度考核。具体\\n标准如下：  \\n \\n    \\n类别 行员级别 考核分值 准入标准  \\n储蓄业务 个贷业务 卡业务 \\n客户经理助理  5 90 300万  500张 \\n4 95  ', metadata={'source': '/content/drive/MyDrive/PDFs/浦发上海浦东发展银行西安分行个金客户经理考核办法.pdf', 'page': 2}), Document(page_content='百度文库  - 好好学习，天天向上  \\n-4 3 100  \\n2 105  \\n1 110  \\n客户经理 5 115 300万  500张 \\n4 120  \\n3 125  \\n2 130  \\n1 135  \\n高级客户经理  5 140 500万 800万  \\n4 145  \\n3 150  \\n2 155  \\n1 160  \\n资深客户经理  5 165 500万 800万  \\n4 170  \\n3 175  \\n2 180  \\n1 185  \\n说明： 1.储蓄业务（季日均余额）为各类个金客户经理考核进入的最低标准。   \\n2.卡业务（季新增发有效卡量）为见习、 D类、初级客户经理进入的最低标准。  \\n3.有效卡的概念：每张卡月均余额为 100元以上。  \\n4.个贷业务（季新增发放个贷）为中级以上客户经理考核进入的最低标准。  \\n5.超出最低考核标准可相互折算，折算标准： 50万储蓄 =50万个贷 =50张有效卡 =5分（折算以 5分为单位）  \\n \\n ', metadata={'source': '/content/drive/MyDrive/PDFs/浦发上海浦东发展银行西安分行个金客户经理考核办法.pdf', 'page': 3}), Document(page_content='百度文库  - 好好学习，天天向上  \\n-5 第五章  工作质量考核标准  \\n第九条   工作质量考核实行扣分制。工作质量指个金客户经理在\\n从事所有个人业务时出现投诉、差错及风险。该项考核最多扣 50分，\\n如发生重大差错事故，按分行有关制度处理。  \\n（一）服务质量考核：   \\n1、工作责任心不强，缺乏配合协作精神；扣 5分 \\n2、客户服务效率低，态度生硬或不及时为客户提供维护服务，\\n有客户投诉的 ,每投诉一次扣 2分 \\n3、不服从支行工作安排，不认真参加分（支）行宣传活动的，\\n每次扣 2分； \\n4、未能及时参加分行（支行）组织的各种业务培训、考试和专\\n题活动的每次扣 2分； \\n5、未按规定要求进行贷前调查、贷后检查工作的，每笔扣 5分； \\n6、未建立信贷台帐资料及档案的每笔扣 5分； \\n7、在工作中有不廉洁自律情况的每发现一次扣 50分。 \\n（二）个人资产质量考核：  \\n当季考核收息率 97%以上为合格，每降 1个百分点扣 2分；不\\n良资产零为合格，每超一个个百分点扣 1分。 \\nA.发生跨月逾期，单笔不超过 10万元，当季收回者，扣 1分。 \\nB.发生跨月逾期， 2笔以上累计金额不超过 20万元，当季收回\\n者，扣 2分；累计超过 20万元以上的，扣 4分。 ', metadata={'source': '/content/drive/MyDrive/PDFs/浦发上海浦东发展银行西安分行个金客户经理考核办法.pdf', 'page': 4}), Document(page_content='百度文库  - 好好学习，天天向上  \\n-6 C.发生逾期超过 3个月，无论金额大小和笔数，扣 10分。 \\n \\n第六章  聘任考核程序  \\n第十条   凡达到本办法第三章规定的该技术职务所要求的行内职\\n工，都可向分行人力资源部申报个金客户经理评聘。  \\n第十一条   每年一月份为客户经理评聘的申报时间，由分行人力\\n资源部、个人业务部每年二月份组织统一的资格考试。考试合格者由\\n分行颁发个金客户经理资格证书，其有效期为一年。  \\n第十二条   客户经理聘任实行开放式、浮动制，即：本人申报  —\\n— 所在部门推荐  —— 分行考核  —— 行长聘任  —— 每年考评\\n调整浮动。   \\n第十三条   特别聘任：  \\n（一）经分行同意录用从其他单位调入的个金客户经理，由用人\\n单位按 D类人员进行考核， 薪资待遇按其业绩享受行内正式行员工同\\n等待遇。待正式转正后按第十一条规定申报技术职务。  \\n（二）对为我行业务创新、工作业绩等方面做出重大贡献的市场\\n人员经支行推荐、分行行长 批准可越级聘任。  \\n第十四条   对于创利业绩较高，而暂未入围技术职务系列，或所\\n评聘技术职务较低的市场人员，各级领导要加大培养力度，使其尽快', metadata={'source': '/content/drive/MyDrive/PDFs/浦发上海浦东发展银行西安分行个金客户经理考核办法.pdf', 'page': 5}), Document(page_content='百度文库  - 好好学习，天天向上  \\n-7 入围，并由所在行制定临时奖励办法。  \\n \\n第七章   考核待遇  \\n第十五条   个人金融业务客户经理的收入基本由三部分组成： 客\\n户经理等级基本收入、业绩奖励收入和日常工作绩效收入。  \\n客户经理等级基本收入是指客户经理的每月基本收入， 基本分为\\n助理客户经理、客户经理、高级客户经理和资深客户经理四大层面，\\n在每一层面分为若干等级。  \\n客户经理的等级标准由客户经理在上年的业绩为核定标准， 如果\\n客户经理在我行第一次进行客户经理评级， 以客户经理自我评价为主\\n要依据，结合客户经理以往工作经验，由个人金融部、人事部门共同\\n最终决定客户经理的等级。  \\n助理客户经理待遇按照人事部门对主办科员以下人员的待遇标\\n准；客户经理待遇按照人事部门对主办科员的待遇标准；高级客户经\\n理待遇按照人事部门对付科级的待遇标准； 资深客户经理待遇 按照人\\n事部门对正科级的待遇标准。  \\n业绩奖励收入是指客户经理每个业绩考核期间的实际业绩所给\\n与兑现的奖金部分。  \\n日常工作绩效收入是按照个金客户经理所从事的事务性工作进\\n行定量化考核，经过工作的完成情况进行奖金分配。该项奖金主要由\\n个人金融部总经理和各支行的行长其从事个人金融业务的人员进行\\n分配，主要侧重分配于从事个金业务的基础工作和创新工作。  ', metadata={'source': '/content/drive/MyDrive/PDFs/浦发上海浦东发展银行西安分行个金客户经理考核办法.pdf', 'page': 6}), Document(page_content='百度文库  - 好好学习，天天向上  \\n-8 第十五条   各项考核分值总计达到某一档行员级别考核分值标\\n准，个金客户经理即可在下一季度享受该级行员的薪资标准。下一季\\n度考核时，按照已享受行员级别考核折算比值进行考核，以次类推。  \\n第十六条   对已聘为各级客户经理的人员，当工作业绩考核达不\\n到相应技术职务要求下限时，下一年技术职务相应下调 。 \\n第十七条   为保护个人业务客户经理创业的积极性，暂定其收入\\n构成中基础薪点不低于 40%。 \\n \\n第八章  管理与奖惩  \\n第十八条   个金客户经理管理机构为分行客户经理管理委员会。\\n管理委员会组成人员：行长或主管业务副行长，个人业务部、人力资\\n源部、风险管理部负责人。  \\n第十九条   客户经理申报的各种信息必须真实。分行个人业务部\\n需对其工作业绩数据进行核实，并对其真实性负责；分行人事部门需\\n对其学历、工作阅历等基本信息进行核实，并对其真实性负责。  \\n第二十条   对因工作不负责任使资产质量产生严重风险或造成损\\n失的给予降级直至开 除处分，构成渎职罪的提请司法部门追究刑事责\\n任。 \\n ', metadata={'source': '/content/drive/MyDrive/PDFs/浦发上海浦东发展银行西安分行个金客户经理考核办法.pdf', 'page': 7}), Document(page_content='百度文库  - 好好学习，天天向上  \\n-9 第九章  附    则 \\n第二十一条   本办法自发布之日起执行。  \\n第二十二条   本办法由上海浦东发展银行西安分行行负责解释和\\n修改。  \\n ', metadata={'source': '/content/drive/MyDrive/PDFs/浦发上海浦东发展银行西安分行个金客户经理考核办法.pdf', 'page': 8})]\n"
          ]
        }
      ],
      "source": [
        "from langchain.document_loaders import PyPDFLoader\n",
        "from langchain.document_loaders import DirectoryLoader\n",
        "\n",
        "root_dir = '/content/drive/MyDrive'\n",
        "# 读取所有的pdf文件\n",
        "loader = DirectoryLoader(f'{root_dir}/PDFs/', glob=\"./*.pdf\", loader_cls=PyPDFLoader)\n",
        "documents = loader.load()\n",
        "print(documents)"
      ]
    },
    {
      "cell_type": "code",
      "source": [
        "from langchain.text_splitter import RecursiveCharacterTextSplitter\n",
        "\n",
        "# 拆分长文本\n",
        "text_splitter = RecursiveCharacterTextSplitter(chunk_size=1000, chunk_overlap=200)\n",
        "texts = text_splitter.split_documents(documents)\n",
        "print(texts[0])"
      ],
      "metadata": {
        "colab": {
          "base_uri": "https://localhost:8080/"
        },
        "id": "uEe-2TXzULKm",
        "outputId": "c5bde8ca-903b-4c5f-a6c3-41674ab15380"
      },
      "execution_count": 8,
      "outputs": [
        {
          "output_type": "stream",
          "name": "stdout",
          "text": [
            "page_content='百度文库  - 好好学习，天天向上  \\n-1 上海浦东发展银行西安分行  \\n个金客户经理管理考核暂行办法  \\n \\n \\n第一章  总   则 \\n第一条   为保证我分行个金客户经理制的顺利实施，有效调动个\\n金客户经理的积极性，促进个金业务快速、稳定地发展，根据总行《上\\n海浦东发展银行个人金融营销体系建设方案（试行）》要求，特制定\\n《上海浦东发展银行西安分行个金客户经理管理考核暂行办法（试\\n行）》（以下简称本办法）。  \\n第二条   个金客户经理系指各支行（营业部）从事个人金融产品\\n营销与市场开拓，为我行个人客户提供综合银行服务的我行市场人\\n员。 \\n第三条   考核内容分为二大类， 即个人业绩考核、 工作质量考核。\\n个人业绩包括个人资产业务、负债业务、卡业务。工作质量指个人业\\n务的资产质量。  \\n第四条   为规范激励规则，客户经理的技术职务和薪资实行每年\\n考核浮动。客户经理的奖金实行每季度考核浮动，即客户经理按其考\\n核内容得分与行员等级结合，享受对应的行员等级待遇。' metadata={'source': '/content/drive/MyDrive/PDFs/浦发上海浦东发展银行西安分行个金客户经理考核办法.pdf', 'page': 0}\n"
          ]
        }
      ]
    },
    {
      "cell_type": "code",
      "source": [
        "from langchain.vectorstores import FAISS\n",
        "from langchain.embeddings import HuggingFaceInstructEmbeddings\n",
        "# 设置embedding model\n",
        "instructor_embeddings = HuggingFaceInstructEmbeddings(model_name=\"hkunlp/instructor-large\",model_kwargs={\"device\": \"cuda\"})\n",
        "# 将texts转化为embeddings，存放到Faiss中\n",
        "db_instructEmbedd = FAISS.from_documents(texts, instructor_embeddings)\n",
        "# 设置相似度查找方式，Topk=3\n",
        "retriever = db_instructEmbedd.as_retriever(search_kwargs={\"k\": 3})\n",
        "retriever.search_type"
      ],
      "metadata": {
        "colab": {
          "base_uri": "https://localhost:8080/",
          "height": 70
        },
        "id": "gABiadQPUtK7",
        "outputId": "1293c5d8-af80-491a-c890-be972473bf93"
      },
      "execution_count": 10,
      "outputs": [
        {
          "output_type": "stream",
          "name": "stdout",
          "text": [
            "load INSTRUCTOR_Transformer\n",
            "max_seq_length  512\n"
          ]
        },
        {
          "output_type": "execute_result",
          "data": {
            "text/plain": [
              "'similarity'"
            ],
            "application/vnd.google.colaboratory.intrinsic+json": {
              "type": "string"
            }
          },
          "metadata": {},
          "execution_count": 10
        }
      ]
    },
    {
      "cell_type": "code",
      "source": [
        "# 相似文档检索\n",
        "docs = retriever.get_relevant_documents(\"个金客户经理的工作职责是什么?\")\n",
        "print(len(docs))\n",
        "docs[0]"
      ],
      "metadata": {
        "colab": {
          "base_uri": "https://localhost:8080/"
        },
        "id": "35bLSTJbXPQR",
        "outputId": "d6d44dd5-c4d0-4f3b-940e-f94e983aab85"
      },
      "execution_count": 11,
      "outputs": [
        {
          "output_type": "stream",
          "name": "stdout",
          "text": [
            "3\n"
          ]
        },
        {
          "output_type": "execute_result",
          "data": {
            "text/plain": [
              "Document(page_content='百度文库  - 好好学习，天天向上  \\n-1 上海浦东发展银行西安分行  \\n个金客户经理管理考核暂行办法  \\n \\n \\n第一章  总   则 \\n第一条   为保证我分行个金客户经理制的顺利实施，有效调动个\\n金客户经理的积极性，促进个金业务快速、稳定地发展，根据总行《上\\n海浦东发展银行个人金融营销体系建设方案（试行）》要求，特制定\\n《上海浦东发展银行西安分行个金客户经理管理考核暂行办法（试\\n行）》（以下简称本办法）。  \\n第二条   个金客户经理系指各支行（营业部）从事个人金融产品\\n营销与市场开拓，为我行个人客户提供综合银行服务的我行市场人\\n员。 \\n第三条   考核内容分为二大类， 即个人业绩考核、 工作质量考核。\\n个人业绩包括个人资产业务、负债业务、卡业务。工作质量指个人业\\n务的资产质量。  \\n第四条   为规范激励规则，客户经理的技术职务和薪资实行每年\\n考核浮动。客户经理的奖金实行每季度考核浮动，即客户经理按其考\\n核内容得分与行员等级结合，享受对应的行员等级待遇。', metadata={'source': '/content/drive/MyDrive/PDFs/浦发上海浦东发展银行西安分行个金客户经理考核办法.pdf', 'page': 0})"
            ]
          },
          "metadata": {},
          "execution_count": 11
        }
      ]
    },
    {
      "cell_type": "code",
      "source": [
        "!pip install openai"
      ],
      "metadata": {
        "colab": {
          "base_uri": "https://localhost:8080/"
        },
        "id": "0R1viKBrbz7C",
        "outputId": "ef7c8e90-c1db-47b5-cf73-4def5407a9ff"
      },
      "execution_count": 17,
      "outputs": [
        {
          "output_type": "stream",
          "name": "stdout",
          "text": [
            "Looking in indexes: https://pypi.org/simple, https://us-python.pkg.dev/colab-wheels/public/simple/\n",
            "Collecting openai\n",
            "  Downloading openai-0.27.8-py3-none-any.whl (73 kB)\n",
            "\u001b[2K     \u001b[90m━━━━━━━━━━━━━━━━━━━━━━━━━━━━━━━━━━━━━━━━\u001b[0m \u001b[32m73.6/73.6 kB\u001b[0m \u001b[31m7.6 MB/s\u001b[0m eta \u001b[36m0:00:00\u001b[0m\n",
            "\u001b[?25hRequirement already satisfied: requests>=2.20 in /usr/local/lib/python3.10/dist-packages (from openai) (2.27.1)\n",
            "Requirement already satisfied: tqdm in /usr/local/lib/python3.10/dist-packages (from openai) (4.65.0)\n",
            "Requirement already satisfied: aiohttp in /usr/local/lib/python3.10/dist-packages (from openai) (3.8.4)\n",
            "Requirement already satisfied: urllib3<1.27,>=1.21.1 in /usr/local/lib/python3.10/dist-packages (from requests>=2.20->openai) (1.26.15)\n",
            "Requirement already satisfied: certifi>=2017.4.17 in /usr/local/lib/python3.10/dist-packages (from requests>=2.20->openai) (2022.12.7)\n",
            "Requirement already satisfied: charset-normalizer~=2.0.0 in /usr/local/lib/python3.10/dist-packages (from requests>=2.20->openai) (2.0.12)\n",
            "Requirement already satisfied: idna<4,>=2.5 in /usr/local/lib/python3.10/dist-packages (from requests>=2.20->openai) (3.4)\n",
            "Requirement already satisfied: attrs>=17.3.0 in /usr/local/lib/python3.10/dist-packages (from aiohttp->openai) (23.1.0)\n",
            "Requirement already satisfied: multidict<7.0,>=4.5 in /usr/local/lib/python3.10/dist-packages (from aiohttp->openai) (6.0.4)\n",
            "Requirement already satisfied: async-timeout<5.0,>=4.0.0a3 in /usr/local/lib/python3.10/dist-packages (from aiohttp->openai) (4.0.2)\n",
            "Requirement already satisfied: yarl<2.0,>=1.0 in /usr/local/lib/python3.10/dist-packages (from aiohttp->openai) (1.9.2)\n",
            "Requirement already satisfied: frozenlist>=1.1.1 in /usr/local/lib/python3.10/dist-packages (from aiohttp->openai) (1.3.3)\n",
            "Requirement already satisfied: aiosignal>=1.1.2 in /usr/local/lib/python3.10/dist-packages (from aiohttp->openai) (1.3.1)\n",
            "Installing collected packages: openai\n",
            "Successfully installed openai-0.27.8\n"
          ]
        }
      ]
    },
    {
      "cell_type": "code",
      "source": [
        "import os\n",
        "os.environ[\"OPENAI_API_KEY\"] = 'sk-'\n",
        "\n",
        "from langchain.llms import OpenAI\n",
        "from langchain.chains import RetrievalQA\n",
        "\n",
        "## LLM回答\n",
        "def process_llm_response(llm_response):\n",
        "    print(llm_response['result'])\n",
        "    print('\\n\\nSources:')\n",
        "    for source in llm_response[\"source_documents\"]:\n",
        "        print(source.metadata['source'])\n",
        "\n",
        "# 使用Chain，回答问题\n",
        "qa_chain_instrucEmbed = RetrievalQA.from_chain_type(llm=OpenAI(temperature=0.2, ),\n",
        "                                  chain_type=\"stuff\",\n",
        "                                  retriever=retriever,\n",
        "                                  return_source_documents=True)\n",
        "\n",
        "\n",
        "query = '个金客户经理的客户职责是什么?'\n",
        "print('-------------------Instructor Embeddings------------------\\n')\n",
        "llm_response = qa_chain_instrucEmbed(query)\n",
        "process_llm_response(llm_response)"
      ],
      "metadata": {
        "colab": {
          "base_uri": "https://localhost:8080/"
        },
        "id": "Zl1wbPkGXYMY",
        "outputId": "55bc050f-50db-4a88-eaa5-fcec86cabc79"
      },
      "execution_count": 19,
      "outputs": [
        {
          "output_type": "stream",
          "name": "stdout",
          "text": [
            "-------------------Instructor Embeddings------------------\n",
            "\n",
            " 客户职责包括：客户开发、业务创新与产品营销、客户服务、防范风险和提高收益、培养人材。\n",
            "\n",
            "\n",
            "Sources:\n",
            "/content/drive/MyDrive/PDFs/浦发上海浦东发展银行西安分行个金客户经理考核办法.pdf\n",
            "/content/drive/MyDrive/PDFs/浦发上海浦东发展银行西安分行个金客户经理考核办法.pdf\n",
            "/content/drive/MyDrive/PDFs/浦发上海浦东发展银行西安分行个金客户经理考核办法.pdf\n"
          ]
        }
      ]
    }
  ]
}