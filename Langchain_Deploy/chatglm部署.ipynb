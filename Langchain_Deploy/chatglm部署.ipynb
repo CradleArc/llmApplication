{
 "cells": [
  {
   "cell_type": "code",
   "execution_count": null,
   "metadata": {},
   "outputs": [],
   "source": [
    "!pip install gradio==3.28.3\n",
    "\n",
    "!pip install wandb\n",
    "!pip install protobuf\n",
    "\n",
    "!pip install gradio\n",
    "!pip install chains\n",
    "\n",
    "!git clone https://huggingface.co/THUDM/chatglm-6b-int4\n",
    "!git clone https://huggingface.co/GanymedeNil/text2vec-large-chinese\n",
    "\n"
   ]
  }
 ],
 "metadata": {
  "language_info": {
   "name": "python"
  }
 },
 "nbformat": 4,
 "nbformat_minor": 2
}
